{
  "cells": [
    {
      "cell_type": "code",
      "execution_count": 29,
      "metadata": {
        "id": "bpggSEpIMhvV"
      },
      "outputs": [],
      "source": [
        "import pandas as pd\n",
        "import numpy as np"
      ]
    },
    {
      "cell_type": "code",
      "execution_count": 30,
      "metadata": {
        "id": "1Rq6mF_gPXp3"
      },
      "outputs": [],
      "source": [
        "df = pd.read_csv(\"../CSVs/Finais/docentes_e_avaliação.csv\", sep=\";\")"
      ]
    },
    {
      "cell_type": "code",
      "execution_count": 31,
      "metadata": {
        "id": "dn0mu2x7xSJQ"
      },
      "outputs": [],
      "source": [
        "from cryptography.fernet import Fernet"
      ]
    },
    {
      "cell_type": "code",
      "execution_count": 32,
      "metadata": {
        "id": "WkfmUteuxY89"
      },
      "outputs": [],
      "source": [
        "#key = Fernet.generate_key()\n",
        "#FhDUhl0GmKaaHdsjXpdMNMIFjuly7wWU3JgFbYmNs50="
      ]
    },
    {
      "cell_type": "code",
      "execution_count": 33,
      "metadata": {},
      "outputs": [
        {
          "name": "stdout",
          "output_type": "stream",
          "text": [
            "<class 'pandas.core.frame.DataFrame'>\n",
            "RangeIndex: 126294 entries, 0 to 126293\n",
            "Data columns (total 18 columns):\n",
            " #   Column                      Non-Null Count   Dtype  \n",
            "---  ------                      --------------   -----  \n",
            " 0   nome                        126294 non-null  object \n",
            " 1   sexo                        126294 non-null  object \n",
            " 2   formacao                    126294 non-null  object \n",
            " 3   vinculo                     126294 non-null  object \n",
            " 4   categoria                   126294 non-null  object \n",
            " 5   classe_funcional            126294 non-null  object \n",
            " 6   lotacao                     126294 non-null  object \n",
            " 7   id_turma                    126294 non-null  int64  \n",
            " 8   ano                         126294 non-null  int64  \n",
            " 9   periodo                     126294 non-null  int64  \n",
            " 10  qtd_discentes               126294 non-null  int64  \n",
            " 11  postura_profissional_media  126294 non-null  float64\n",
            " 12  postura_profissional_DP     126294 non-null  float64\n",
            " 13  atuacao_profissional_media  126294 non-null  float64\n",
            " 14  atuacao_profissional_DP     126294 non-null  float64\n",
            " 15  autoavaliacao_aluno_media   69850 non-null   float64\n",
            " 16  autoavaliacao_aluno_DP      69850 non-null   float64\n",
            " 17  ano_admissao                126294 non-null  int64  \n",
            "dtypes: float64(6), int64(5), object(7)\n",
            "memory usage: 17.3+ MB\n"
          ]
        }
      ],
      "source": [
        "df.info()"
      ]
    },
    {
      "cell_type": "code",
      "execution_count": 34,
      "metadata": {
        "colab": {
          "base_uri": "https://localhost:8080/",
          "height": 226
        },
        "id": "ct6BmSMZxlPg",
        "outputId": "57294fe2-2eb6-4c93-e8bb-c3a289267e40"
      },
      "outputs": [
        {
          "data": {
            "text/html": [
              "<div>\n",
              "<style scoped>\n",
              "    .dataframe tbody tr th:only-of-type {\n",
              "        vertical-align: middle;\n",
              "    }\n",
              "\n",
              "    .dataframe tbody tr th {\n",
              "        vertical-align: top;\n",
              "    }\n",
              "\n",
              "    .dataframe thead th {\n",
              "        text-align: right;\n",
              "    }\n",
              "</style>\n",
              "<table border=\"1\" class=\"dataframe\">\n",
              "  <thead>\n",
              "    <tr style=\"text-align: right;\">\n",
              "      <th></th>\n",
              "      <th>nome</th>\n",
              "      <th>sexo</th>\n",
              "      <th>formacao</th>\n",
              "      <th>vinculo</th>\n",
              "      <th>categoria</th>\n",
              "      <th>classe_funcional</th>\n",
              "      <th>lotacao</th>\n",
              "      <th>id_turma</th>\n",
              "      <th>ano</th>\n",
              "      <th>periodo</th>\n",
              "      <th>qtd_discentes</th>\n",
              "      <th>postura_profissional_media</th>\n",
              "      <th>postura_profissional_DP</th>\n",
              "      <th>atuacao_profissional_media</th>\n",
              "      <th>atuacao_profissional_DP</th>\n",
              "      <th>autoavaliacao_aluno_media</th>\n",
              "      <th>autoavaliacao_aluno_DP</th>\n",
              "      <th>ano_admissao</th>\n",
              "    </tr>\n",
              "  </thead>\n",
              "  <tbody>\n",
              "    <tr>\n",
              "      <th>0</th>\n",
              "      <td>gAAAAABoK5E6j5TbqZPDJ5NYzMxdBZriI-CsNEuDKbVirf...</td>\n",
              "      <td>M</td>\n",
              "      <td>MESTRADO</td>\n",
              "      <td>Ativo Permanente</td>\n",
              "      <td>PROFESSOR DE ENSINO BASICO TECNICO E TECNOLOGICO</td>\n",
              "      <td>C                                             ...</td>\n",
              "      <td>ESCOLA DE MÚSICA</td>\n",
              "      <td>57597342</td>\n",
              "      <td>2017</td>\n",
              "      <td>1</td>\n",
              "      <td>11</td>\n",
              "      <td>9.86</td>\n",
              "      <td>0.36</td>\n",
              "      <td>9.86</td>\n",
              "      <td>0.35</td>\n",
              "      <td>9.67</td>\n",
              "      <td>0.55</td>\n",
              "      <td>1998</td>\n",
              "    </tr>\n",
              "    <tr>\n",
              "      <th>1</th>\n",
              "      <td>gAAAAABoK5E6R1hu4dSPg8FkFOEIEmcEYHlYvmPJzZEPPd...</td>\n",
              "      <td>F</td>\n",
              "      <td>DOUTORADO</td>\n",
              "      <td>Ativo Permanente</td>\n",
              "      <td>PROFESSOR DE ENSINO BASICO TECNICO E TECNOLOGICO</td>\n",
              "      <td>Classe A - Auxiliar                           ...</td>\n",
              "      <td>ESCOLA AGRÍCOLA DE JUNDIAÍ</td>\n",
              "      <td>1207402</td>\n",
              "      <td>2013</td>\n",
              "      <td>2</td>\n",
              "      <td>17</td>\n",
              "      <td>9.57</td>\n",
              "      <td>0.84</td>\n",
              "      <td>9.49</td>\n",
              "      <td>1.25</td>\n",
              "      <td>8.89</td>\n",
              "      <td>1.93</td>\n",
              "      <td>2009</td>\n",
              "    </tr>\n",
              "    <tr>\n",
              "      <th>2</th>\n",
              "      <td>gAAAAABoK5E6eAVCeUnbWC3nbkQx-aLvuBnJzHRQosKbFN...</td>\n",
              "      <td>F</td>\n",
              "      <td>DOUTORADO</td>\n",
              "      <td>Ativo Permanente</td>\n",
              "      <td>PROFESSOR DE ENSINO BASICO TECNICO E TECNOLOGICO</td>\n",
              "      <td>Classe A - Auxiliar                           ...</td>\n",
              "      <td>ESCOLA AGRÍCOLA DE JUNDIAÍ</td>\n",
              "      <td>1224417</td>\n",
              "      <td>2014</td>\n",
              "      <td>1</td>\n",
              "      <td>9</td>\n",
              "      <td>9.29</td>\n",
              "      <td>1.38</td>\n",
              "      <td>9.23</td>\n",
              "      <td>1.51</td>\n",
              "      <td>8.76</td>\n",
              "      <td>1.73</td>\n",
              "      <td>2009</td>\n",
              "    </tr>\n",
              "    <tr>\n",
              "      <th>3</th>\n",
              "      <td>gAAAAABoK5E6qJDKzYFcqZH3pJgHamgSiwc4TQHNCtoo1d...</td>\n",
              "      <td>F</td>\n",
              "      <td>DOUTORADO</td>\n",
              "      <td>Ativo Permanente</td>\n",
              "      <td>PROFESSOR DE ENSINO BASICO TECNICO E TECNOLOGICO</td>\n",
              "      <td>Classe A - Auxiliar                           ...</td>\n",
              "      <td>ESCOLA AGRÍCOLA DE JUNDIAÍ</td>\n",
              "      <td>1239782</td>\n",
              "      <td>2015</td>\n",
              "      <td>1</td>\n",
              "      <td>14</td>\n",
              "      <td>9.80</td>\n",
              "      <td>0.52</td>\n",
              "      <td>9.80</td>\n",
              "      <td>0.56</td>\n",
              "      <td>9.13</td>\n",
              "      <td>1.73</td>\n",
              "      <td>2009</td>\n",
              "    </tr>\n",
              "    <tr>\n",
              "      <th>4</th>\n",
              "      <td>gAAAAABoK5E6U5XZ1G27srNXBhH4mD1rnNwCC3N_ABu4Tw...</td>\n",
              "      <td>F</td>\n",
              "      <td>DOUTORADO</td>\n",
              "      <td>Ativo Permanente</td>\n",
              "      <td>PROFESSOR DE ENSINO BASICO TECNICO E TECNOLOGICO</td>\n",
              "      <td>Classe A - Auxiliar                           ...</td>\n",
              "      <td>ESCOLA AGRÍCOLA DE JUNDIAÍ</td>\n",
              "      <td>1239821</td>\n",
              "      <td>2015</td>\n",
              "      <td>1</td>\n",
              "      <td>6</td>\n",
              "      <td>9.75</td>\n",
              "      <td>0.45</td>\n",
              "      <td>9.13</td>\n",
              "      <td>1.12</td>\n",
              "      <td>8.86</td>\n",
              "      <td>1.37</td>\n",
              "      <td>2009</td>\n",
              "    </tr>\n",
              "  </tbody>\n",
              "</table>\n",
              "</div>"
            ],
            "text/plain": [
              "                                                nome sexo   formacao  \\\n",
              "0  gAAAAABoK5E6j5TbqZPDJ5NYzMxdBZriI-CsNEuDKbVirf...    M   MESTRADO   \n",
              "1  gAAAAABoK5E6R1hu4dSPg8FkFOEIEmcEYHlYvmPJzZEPPd...    F  DOUTORADO   \n",
              "2  gAAAAABoK5E6eAVCeUnbWC3nbkQx-aLvuBnJzHRQosKbFN...    F  DOUTORADO   \n",
              "3  gAAAAABoK5E6qJDKzYFcqZH3pJgHamgSiwc4TQHNCtoo1d...    F  DOUTORADO   \n",
              "4  gAAAAABoK5E6U5XZ1G27srNXBhH4mD1rnNwCC3N_ABu4Tw...    F  DOUTORADO   \n",
              "\n",
              "            vinculo                                         categoria  \\\n",
              "0  Ativo Permanente  PROFESSOR DE ENSINO BASICO TECNICO E TECNOLOGICO   \n",
              "1  Ativo Permanente  PROFESSOR DE ENSINO BASICO TECNICO E TECNOLOGICO   \n",
              "2  Ativo Permanente  PROFESSOR DE ENSINO BASICO TECNICO E TECNOLOGICO   \n",
              "3  Ativo Permanente  PROFESSOR DE ENSINO BASICO TECNICO E TECNOLOGICO   \n",
              "4  Ativo Permanente  PROFESSOR DE ENSINO BASICO TECNICO E TECNOLOGICO   \n",
              "\n",
              "                                    classe_funcional  \\\n",
              "0  C                                             ...   \n",
              "1  Classe A - Auxiliar                           ...   \n",
              "2  Classe A - Auxiliar                           ...   \n",
              "3  Classe A - Auxiliar                           ...   \n",
              "4  Classe A - Auxiliar                           ...   \n",
              "\n",
              "                      lotacao  id_turma   ano  periodo  qtd_discentes  \\\n",
              "0            ESCOLA DE MÚSICA  57597342  2017        1             11   \n",
              "1  ESCOLA AGRÍCOLA DE JUNDIAÍ   1207402  2013        2             17   \n",
              "2  ESCOLA AGRÍCOLA DE JUNDIAÍ   1224417  2014        1              9   \n",
              "3  ESCOLA AGRÍCOLA DE JUNDIAÍ   1239782  2015        1             14   \n",
              "4  ESCOLA AGRÍCOLA DE JUNDIAÍ   1239821  2015        1              6   \n",
              "\n",
              "   postura_profissional_media  postura_profissional_DP  \\\n",
              "0                        9.86                     0.36   \n",
              "1                        9.57                     0.84   \n",
              "2                        9.29                     1.38   \n",
              "3                        9.80                     0.52   \n",
              "4                        9.75                     0.45   \n",
              "\n",
              "   atuacao_profissional_media  atuacao_profissional_DP  \\\n",
              "0                        9.86                     0.35   \n",
              "1                        9.49                     1.25   \n",
              "2                        9.23                     1.51   \n",
              "3                        9.80                     0.56   \n",
              "4                        9.13                     1.12   \n",
              "\n",
              "   autoavaliacao_aluno_media  autoavaliacao_aluno_DP  ano_admissao  \n",
              "0                       9.67                    0.55          1998  \n",
              "1                       8.89                    1.93          2009  \n",
              "2                       8.76                    1.73          2009  \n",
              "3                       9.13                    1.73          2009  \n",
              "4                       8.86                    1.37          2009  "
            ]
          },
          "execution_count": 34,
          "metadata": {},
          "output_type": "execute_result"
        }
      ],
      "source": [
        "key = b\"FhDUhl0GmKaaHdsjXpdMNMIFjuly7wWU3JgFbYmNs50=\"  #\n",
        "fernet = Fernet(key)\n",
        "\n",
        "df[\"nome\"] = df[\"nome\"].apply(lambda x:fernet.encrypt(x.encode()).decode())\n",
        "\n",
        "df.head()"
      ]
    },
    {
      "cell_type": "code",
      "execution_count": 35,
      "metadata": {},
      "outputs": [
        {
          "name": "stdout",
          "output_type": "stream",
          "text": [
            "<class 'pandas.core.frame.DataFrame'>\n",
            "RangeIndex: 126294 entries, 0 to 126293\n",
            "Data columns (total 18 columns):\n",
            " #   Column                      Non-Null Count   Dtype  \n",
            "---  ------                      --------------   -----  \n",
            " 0   nome                        126294 non-null  object \n",
            " 1   sexo                        126294 non-null  object \n",
            " 2   formacao                    126294 non-null  object \n",
            " 3   vinculo                     126294 non-null  object \n",
            " 4   categoria                   126294 non-null  object \n",
            " 5   classe_funcional            126294 non-null  object \n",
            " 6   lotacao                     126294 non-null  object \n",
            " 7   id_turma                    126294 non-null  int64  \n",
            " 8   ano                         126294 non-null  int64  \n",
            " 9   periodo                     126294 non-null  int64  \n",
            " 10  qtd_discentes               126294 non-null  int64  \n",
            " 11  postura_profissional_media  126294 non-null  float64\n",
            " 12  postura_profissional_DP     126294 non-null  float64\n",
            " 13  atuacao_profissional_media  126294 non-null  float64\n",
            " 14  atuacao_profissional_DP     126294 non-null  float64\n",
            " 15  autoavaliacao_aluno_media   69850 non-null   float64\n",
            " 16  autoavaliacao_aluno_DP      69850 non-null   float64\n",
            " 17  ano_admissao                126294 non-null  int64  \n",
            "dtypes: float64(6), int64(5), object(7)\n",
            "memory usage: 17.3+ MB\n"
          ]
        }
      ],
      "source": [
        "df.reset_index()\n",
        "df.info()"
      ]
    },
    {
      "cell_type": "code",
      "execution_count": 36,
      "metadata": {},
      "outputs": [],
      "source": [
        "df.to_csv(\n",
        "    '../CSVs/Finais/docentes_e_avaliação_criptografado.csv',  # Nome do arquivo de saída\n",
        "    index=False,                # Não incluir o índice no arquivo\n",
        "    sep=';',                    # Separador (padrão é vírgula)\n",
        "    header=True,                # Incluir cabeçalho\n",
        ")"
      ]
    }
  ],
  "metadata": {
    "colab": {
      "provenance": []
    },
    "kernelspec": {
      "display_name": ".venv",
      "language": "python",
      "name": "python3"
    },
    "language_info": {
      "codemirror_mode": {
        "name": "ipython",
        "version": 3
      },
      "file_extension": ".py",
      "mimetype": "text/x-python",
      "name": "python",
      "nbconvert_exporter": "python",
      "pygments_lexer": "ipython3",
      "version": "3.12.10"
    }
  },
  "nbformat": 4,
  "nbformat_minor": 0
}
