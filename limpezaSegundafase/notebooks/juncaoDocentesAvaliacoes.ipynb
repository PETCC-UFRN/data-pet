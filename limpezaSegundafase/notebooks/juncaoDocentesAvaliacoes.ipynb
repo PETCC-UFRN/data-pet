{
 "cells": [
  {
   "cell_type": "markdown",
   "id": "d5e15740",
   "metadata": {},
   "source": [
    "# Introdução\n",
    "O presente notebook tem como intuito fazer a junção (merge) dos datasets \"docentes_e_avaliação.csv\" e \"turmas_geral\", contendo dados dos docentes e avaliações referentes a turmas, e dados métricos de desempenho das turmas respectivamente."
   ]
  },
  {
   "cell_type": "code",
   "execution_count": 16,
   "id": "f6465f25",
   "metadata": {},
   "outputs": [],
   "source": [
    "import pandas as pd\n",
    "import numpy as np"
   ]
  },
  {
   "cell_type": "code",
   "execution_count": 17,
   "id": "f7d3eef1",
   "metadata": {},
   "outputs": [],
   "source": [
    "df_docen = pd.read_csv(\"../CSVs/Baixados/docentes.csv\", sep=\";\")\n",
    "df_avali = pd.read_csv(\"../CSVs/Baixados/avaliacaodocencia.csv\", sep=\";\")"
   ]
  },
  {
   "cell_type": "markdown",
   "id": "4648389f",
   "metadata": {},
   "source": [
    "É possível fazer um casamento entre os dois datasets porque as colunas \"nome\" e \"nome_docente\" ambas representam os mesmos"
   ]
  },
  {
   "cell_type": "code",
   "execution_count": 18,
   "id": "70000027",
   "metadata": {},
   "outputs": [],
   "source": [
    "df_mesclado = pd.merge(df_docen, df_avali, left_on=\"nome\", right_on=\"nome_docente\")\n",
    "df_mesclado = df_mesclado.drop(labels='nome_docente', axis=1)"
   ]
  },
  {
   "cell_type": "markdown",
   "id": "b18bed0b",
   "metadata": {},
   "source": [
    "# Quais colunas serão dropadas?"
   ]
  },
  {
   "cell_type": "markdown",
   "id": "3ba43848",
   "metadata": {},
   "source": [
    "O intuito é manter apenas as colunas que possam ter um uso específico para a análise dos dados"
   ]
  },
  {
   "cell_type": "code",
   "execution_count": 19,
   "id": "ba5c3e7b",
   "metadata": {},
   "outputs": [],
   "source": [
    "df_mesclado = df_mesclado.drop('siape', axis=1)\n",
    "df_mesclado = df_mesclado.drop('tipo_jornada_trabalho', axis=1)\n",
    "df_mesclado = df_mesclado.drop('id_unidade_lotacao', axis=1)\n",
    "df_mesclado = df_mesclado.drop('id_docente', axis=1)\n",
    "#df_mesclado = df_mesclado.drop('id_unidade_lotacao', axis=1)\n",
    "\n"
   ]
  },
  {
   "cell_type": "markdown",
   "id": "73202467",
   "metadata": {},
   "source": [
    "## Explicação para remoção\n",
    "\n",
    "siape: os professores serão identificados pelo hash do nome\n",
    "\n",
    "tipo_jornada_trabalho: \n",
    "\n",
    "id_unidade_lotacao: é mais fácil trabalhar com o nome da unidade de lotação\n",
    "\n",
    "id_docente: mesmo do siape\n"
   ]
  },
  {
   "cell_type": "markdown",
   "id": "a3f33208",
   "metadata": {},
   "source": [
    "## Colunas que podem ser dropadas mas não foram ainda (Ajuda Baiano)\n",
    "\n",
    "Categoria: ela pode ser util para aferir se o professor dá aula para o ensino superior da UFRN ou para o técnico \n",
    "(Escola de Musica, EAJ, etc.)\n",
    "\n",
    "Admissão: pode gerar análises legais relacionando a produtividade de pesquisa do professor com as avaliações da turma nas aulas. \n"
   ]
  },
  {
   "cell_type": "markdown",
   "id": "5ca8ada9",
   "metadata": {},
   "source": [
    "## Para as próximas etapas, será importante converter a coluna admissão em ano de admissão"
   ]
  },
  {
   "cell_type": "code",
   "execution_count": 20,
   "id": "fc41d6ef",
   "metadata": {},
   "outputs": [],
   "source": [
    "df_mesclado['admissao'] = pd.to_datetime(df_mesclado['admissao'])\n",
    "\n",
    "df_mesclado['ano_admissao'] = df_mesclado['admissao'].dt.year\n"
   ]
  },
  {
   "cell_type": "code",
   "execution_count": 21,
   "id": "eb27021f",
   "metadata": {},
   "outputs": [
    {
     "name": "stdout",
     "output_type": "stream",
     "text": [
      "<class 'pandas.core.frame.DataFrame'>\n",
      "RangeIndex: 126294 entries, 0 to 126293\n",
      "Data columns (total 18 columns):\n",
      " #   Column                      Non-Null Count   Dtype  \n",
      "---  ------                      --------------   -----  \n",
      " 0   nome                        126294 non-null  object \n",
      " 1   sexo                        126294 non-null  object \n",
      " 2   formacao                    126294 non-null  object \n",
      " 3   vinculo                     126294 non-null  object \n",
      " 4   categoria                   126294 non-null  object \n",
      " 5   classe_funcional            126294 non-null  object \n",
      " 6   lotacao                     126294 non-null  object \n",
      " 7   id_turma                    126294 non-null  int64  \n",
      " 8   ano                         126294 non-null  int64  \n",
      " 9   periodo                     126294 non-null  int64  \n",
      " 10  qtd_discentes               126294 non-null  int64  \n",
      " 11  postura_profissional_media  126294 non-null  float64\n",
      " 12  postura_profissional_DP     126294 non-null  float64\n",
      " 13  atuacao_profissional_media  126294 non-null  float64\n",
      " 14  atuacao_profissional_DP     126294 non-null  float64\n",
      " 15  autoavaliacao_aluno_media   69850 non-null   float64\n",
      " 16  autoavaliacao_aluno_DP      69850 non-null   float64\n",
      " 17  ano_admissao                126294 non-null  int32  \n",
      "dtypes: float64(6), int32(1), int64(4), object(7)\n",
      "memory usage: 16.9+ MB\n"
     ]
    }
   ],
   "source": [
    "df_mesclado = df_mesclado.drop('admissao', axis=1)\n",
    "df_mesclado.info()"
   ]
  },
  {
   "cell_type": "code",
   "execution_count": 23,
   "id": "440c7743",
   "metadata": {},
   "outputs": [],
   "source": [
    "df_mesclado.to_csv(\n",
    "    '../CSVs/Finais/docentes_e_avaliação.csv',  # Nome do arquivo de saída\n",
    "    index=False,                # Não incluir o índice no arquivo\n",
    "    sep=';',                    # Separador (padrão é vírgula)\n",
    "    header=True,                # Incluir cabeçalho\n",
    ")"
   ]
  }
 ],
 "metadata": {
  "kernelspec": {
   "display_name": ".venv",
   "language": "python",
   "name": "python3"
  },
  "language_info": {
   "codemirror_mode": {
    "name": "ipython",
    "version": 3
   },
   "file_extension": ".py",
   "mimetype": "text/x-python",
   "name": "python",
   "nbconvert_exporter": "python",
   "pygments_lexer": "ipython3",
   "version": "3.12.10"
  }
 },
 "nbformat": 4,
 "nbformat_minor": 5
}
