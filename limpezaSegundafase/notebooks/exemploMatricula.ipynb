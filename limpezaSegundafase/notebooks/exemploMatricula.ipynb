{
 "cells": [
  {
   "cell_type": "markdown",
   "id": "eebf75ff",
   "metadata": {},
   "source": [
    "# Introdução\n",
    "Os datasets de 'matriculas', organizados por período acadêmico, contêm dados relacionados as turmas e a situação (aprovado, reprovado, trancado, etc) dos discentes dessas turmas. Esses dados nos são interessantes na análise das avaliações dos docentes, já que podem ser relacionados com as mesmas de várias maneiras. Contudo, do modo que estão organizados agora, esses dados não se \"encaixam\" facilmente no nosso dataset principal (avaliação dos docentes), então precisamos limpar e modificar esses datasets para que seus dados possam ser úteis em nossa análise. Para isso, vamos agrupar os dados por turma (coluna 'id_turma'), afim de relacionar com a turma em nosso dataset principal, e condensar dados úteis que seriam perdidos nessa agrupagem em novas colunas (quantidade de aprovados, quantidade de reprovados, média geral da turma, etc).\n",
    "\n",
    "O presente notebook é um exemplo do processo feito para cada um desses datasets de 'matriculas', afim de deixar claro o que foi feito na tratagem desses dados."
   ]
  },
  {
   "cell_type": "markdown",
   "id": "a73f2c62",
   "metadata": {},
   "source": [
    "# Preparando o ambiente"
   ]
  },
  {
   "cell_type": "markdown",
   "id": "311da8d3",
   "metadata": {},
   "source": [
    "Importando bibliotecas"
   ]
  },
  {
   "cell_type": "code",
   "execution_count": 1,
   "id": "70f3e166",
   "metadata": {},
   "outputs": [],
   "source": [
    "import pandas as pd\n",
    "import numpy as np"
   ]
  },
  {
   "cell_type": "markdown",
   "id": "66bd1d39",
   "metadata": {},
   "source": [
    "O dataset que utilizaremos nesse exemplo é o último dataset de matriculas disponível (referente a 2022.2)"
   ]
  },
  {
   "cell_type": "code",
   "execution_count": 19,
   "id": "7853c9b7",
   "metadata": {},
   "outputs": [],
   "source": [
    "dfMatriculas = pd.read_csv(\"../CSVs/Baixados/matriculas-2022.2.csv\", sep=\";\")"
   ]
  },
  {
   "cell_type": "markdown",
   "id": "c2f094cd",
   "metadata": {},
   "source": [
    "# Entendendo o dataset"
   ]
  },
  {
   "cell_type": "code",
   "execution_count": 3,
   "id": "7fbc66e9",
   "metadata": {},
   "outputs": [
    {
     "name": "stdout",
     "output_type": "stream",
     "text": [
      "<class 'pandas.core.frame.DataFrame'>\n",
      "RangeIndex: 658565 entries, 0 to 658564\n",
      "Data columns (total 10 columns):\n",
      " #   Column               Non-Null Count   Dtype  \n",
      "---  ------               --------------   -----  \n",
      " 0   id_turma             658565 non-null  int64  \n",
      " 1   discente             658565 non-null  object \n",
      " 2   id_curso             656766 non-null  float64\n",
      " 3   unidade              595449 non-null  float64\n",
      " 4   nota                 578285 non-null  object \n",
      " 5   reposicao            595449 non-null  object \n",
      " 6   faltas_unidade       595449 non-null  float64\n",
      " 7   media_final          594452 non-null  object \n",
      " 8   numero_total_faltas  612310 non-null  float64\n",
      " 9   descricao            658565 non-null  object \n",
      "dtypes: float64(4), int64(1), object(5)\n",
      "memory usage: 50.2+ MB\n"
     ]
    }
   ],
   "source": [
    "dfMatriculas.info()"
   ]
  },
  {
   "cell_type": "markdown",
   "id": "10d6e308",
   "metadata": {},
   "source": [
    "O dataset é composto por 10 colunas, e tem 658565 linhas. Alguns atributos (colunas) estão com tipo 'object' quando eram para estar com tipo 'float', como 'nota' e 'media_final'. Iremos consertar isso futuramente."
   ]
  },
  {
   "cell_type": "code",
   "execution_count": 4,
   "id": "daf4df56",
   "metadata": {},
   "outputs": [
    {
     "name": "stdout",
     "output_type": "stream",
     "text": [
      "Quantidade de turmas: 8212\n",
      "Quantidade de valores nulos por coluna: \n",
      "id_turma                   0\n",
      "discente                   0\n",
      "id_curso                1799\n",
      "unidade                63116\n",
      "nota                   80280\n",
      "reposicao              63116\n",
      "faltas_unidade         63116\n",
      "media_final            64113\n",
      "numero_total_faltas    46255\n",
      "descricao                  0\n",
      "dtype: int64\n"
     ]
    }
   ],
   "source": [
    "print(f\"Quantidade de turmas: {dfMatriculas['id_turma'].unique().size}\")\n",
    "print(f\"Quantidade de valores nulos por coluna: \")\n",
    "print(f\"{dfMatriculas.isnull().sum()}\")"
   ]
  },
  {
   "cell_type": "markdown",
   "id": "61ba0ebd",
   "metadata": {},
   "source": [
    "Ao todo, existem 8212 turmas no dataset, contudo muitas dessas turmas podem não ser turmas \"de verdade\", futuramente vamos analisar melhor isso.\n",
    "Dentre esses valores nulos, muitos serão descartados pois não nos são interessantes, enquanto outros serão mantidos. Por exemplo, um aluno que trancou uma disciplina aparecerá com média final nula, e essa é uma informação interessante para nós."
   ]
  },
  {
   "cell_type": "code",
   "execution_count": 5,
   "id": "e913956e",
   "metadata": {},
   "outputs": [
    {
     "name": "stdout",
     "output_type": "stream",
     "text": [
      "Valores únicos de 'descricao': ['APROVADO' 'DESISTENCIA' 'REPROVADO POR MÉDIA E POR FALTAS' 'INDEFERIDO'\n",
      " 'TRANCADO' 'APROVADO POR NOTA' 'REPROVADO' 'CANCELADO'\n",
      " 'REPROVADO POR FALTAS' 'REPROVADO POR NOTA E FALTA' 'REPROVADO POR NOTA'\n",
      " 'EXCLUIDA' 'CUMPRIU' 'DISPENSADO' 'EM ESPERA' 'AGUARDANDO DEFERIMENTO'\n",
      " 'MATRICULADO']\n"
     ]
    }
   ],
   "source": [
    "print(f\"Valores únicos de 'descricao': {dfMatriculas[\"descricao\"].unique()}\")"
   ]
  },
  {
   "cell_type": "markdown",
   "id": "9059b46b",
   "metadata": {},
   "source": [
    "A nós, interessa apenas os valores de 'descricao' que dizem respeito a situação final de um aluno naquela turma (aprovado, reprovado, etc). Muitos desses valores únicos não nos serão úteis, então serão descartados."
   ]
  },
  {
   "cell_type": "markdown",
   "id": "499a7d85",
   "metadata": {},
   "source": [
    "# Limpando o dataset"
   ]
  },
  {
   "cell_type": "markdown",
   "id": "9663399d",
   "metadata": {},
   "source": [
    "Vamos começar removendo as ocorrências de 'descricao' que não nos serão úteis (já especificados)."
   ]
  },
  {
   "cell_type": "code",
   "execution_count": 6,
   "id": "ac8ac3fb",
   "metadata": {},
   "outputs": [
    {
     "name": "stdout",
     "output_type": "stream",
     "text": [
      "Valores únicos de 'descricao' pós filtro: ['APROVADO' 'DESISTENCIA' 'REPROVADO POR MÉDIA E POR FALTAS' 'TRANCADO'\n",
      " 'APROVADO POR NOTA' 'REPROVADO' 'REPROVADO POR FALTAS'\n",
      " 'REPROVADO POR NOTA E FALTA' 'REPROVADO POR NOTA']\n"
     ]
    }
   ],
   "source": [
    "# Lista dos valores indesejados na coluna 'descricao',\n",
    "valores_indesejados = ['INDEFERIDO', 'EXCLUIDA', 'CUMPRIU', 'DISPENSADO', 'EM ESPERA', 'AGUARDANDO DEFERIMENTO', 'MATRICULADO', 'CANCELADO']\n",
    "\n",
    "# Filtrar o DataFrame, mantendo apenas linhas onde 'descricao' NÃO está na lista\n",
    "dfMatriculas_filtro1 = dfMatriculas[~dfMatriculas['descricao'].isin(valores_indesejados)]\n",
    "\n",
    "# Checando se o filtro foi aplicado corretamente\n",
    "print(f\"Valores únicos de 'descricao' pós filtro: {dfMatriculas_filtro1[\"descricao\"].unique()}\")"
   ]
  },
  {
   "cell_type": "markdown",
   "id": "a94c8c47",
   "metadata": {},
   "source": [
    "Vamos checar como isso afetou a contagem de nulos no dataset"
   ]
  },
  {
   "cell_type": "code",
   "execution_count": 7,
   "id": "17145688",
   "metadata": {},
   "outputs": [
    {
     "name": "stdout",
     "output_type": "stream",
     "text": [
      "=== Comparação de Valores Nulos antes e pós filtro 1 ===\n",
      "                     Nulos_Antes  Nulos_Depois  Diferença\n",
      "id_turma                       0             0          0\n",
      "discente                       0             0          0\n",
      "id_curso                    1799          1681        118\n",
      "unidade                    63116         30305      32811\n",
      "nota                       80280         38136      42144\n",
      "reposicao                  63116         30305      32811\n",
      "faltas_unidade             63116         30305      32811\n",
      "media_final                64113         20305      43808\n",
      "numero_total_faltas        46255         10917      35338\n",
      "descricao                      0             0          0\n"
     ]
    }
   ],
   "source": [
    "# Calcula nulos antes e depois\n",
    "nulos_antes = dfMatriculas.isna().sum()\n",
    "nulos_depois = dfMatriculas_filtro1.isna().sum()\n",
    "\n",
    "# DataFrame de comparação\n",
    "comparacao_nulos = pd.DataFrame({\n",
    "    'Nulos_Antes': nulos_antes,\n",
    "    'Nulos_Depois': nulos_depois,\n",
    "    'Diferença': nulos_antes - nulos_depois\n",
    "})\n",
    "\n",
    "print(\"=== Comparação de Valores Nulos antes e pós filtro 1 ===\")\n",
    "print(comparacao_nulos)"
   ]
  },
  {
   "cell_type": "markdown",
   "id": "bfd7ecae",
   "metadata": {},
   "source": [
    "Alguns alunos possuem o valor em 'unidade' nulo, mas com 'descricao' = 'aprovado'. Julgamos que essas podem não ser turmas de verdade, então vamos remover essas ocorrências."
   ]
  },
  {
   "cell_type": "code",
   "execution_count": 8,
   "id": "f990fbe7",
   "metadata": {},
   "outputs": [
    {
     "name": "stdout",
     "output_type": "stream",
     "text": [
      "Quantidade de ocorrências de 'unidade' nula  e aluno aprovado: 211680\n",
      "Exemplos de ocorrências de 'unidade' nula  e aluno aprovado:\n",
      "      id_turma                          discente  id_curso  unidade nota  \\\n",
      "3981  57709858  3201c5a41680f1be3fd705282435cfb1  315735.0      NaN  NaN   \n",
      "3982  57709858  03ce9d83adf2a2714da477cb62ecfbcc  315736.0      NaN  NaN   \n",
      "3983  57709858  246083838651b1815f41581c1fb4a2f8  315735.0      NaN  NaN   \n",
      "3984  57709858  f27d4b5121d169e8ce5636ad9a8aad65  315736.0      NaN  NaN   \n",
      "3985  57709858  0ea411c2f095648992df53774f125be0  315735.0      NaN  NaN   \n",
      "\n",
      "     reposicao  faltas_unidade media_final  numero_total_faltas descricao  \n",
      "3981       NaN             NaN         5,0                  0.0  APROVADO  \n",
      "3982       NaN             NaN         4,0                 10.0  APROVADO  \n",
      "3983       NaN             NaN         5,0                  0.0  APROVADO  \n",
      "3984       NaN             NaN         4,0                 10.0  APROVADO  \n",
      "3985       NaN             NaN         5,0                  0.0  APROVADO  \n",
      "\n",
      " ===================================================================== \n",
      "\n",
      "Quantidade de ocorrências de 'unidade' nula  e aluno aprovado pós filtro 2: 0\n",
      "Diferença de tamanho do dataset antes e pós filtro 2: 211680\n"
     ]
    }
   ],
   "source": [
    "# Ocorrências de 'unidade' = null/NaN e 'descricao' = 'APROVADO'\n",
    "df_null_e_aprovado = (dfMatriculas_filtro1[\n",
    "    (dfMatriculas_filtro1['unidade'].isna()) & \n",
    "    (dfMatriculas_filtro1['descricao'] == 'APROVADO')\n",
    "])\n",
    "\n",
    "print(f\"Quantidade de ocorrências de 'unidade' nula  e aluno aprovado: {df_null_e_aprovado.size}\")\n",
    "print(f\"Exemplos de ocorrências de 'unidade' nula  e aluno aprovado:\")\n",
    "print(f\"{df_null_e_aprovado.head(5)}\")\n",
    "\n",
    "print(f\"\\n ===================================================================== \\n\")\n",
    "\n",
    "# Filtrando o dataset para quando NÃO há as ocorrências especificadas\n",
    "dfMatriculas_filtro2 = (dfMatriculas_filtro1[\n",
    "    ~(\n",
    "        (dfMatriculas_filtro1['unidade'].isna()) & \n",
    "        (dfMatriculas_filtro1['descricao'] == 'APROVADO')\n",
    "    )\n",
    "])\n",
    "\n",
    "# Checando se a filtragem foi feita corretamente\n",
    "df_null_e_aprovado = (dfMatriculas_filtro2[\n",
    "    (dfMatriculas_filtro2['unidade'].isna()) & \n",
    "    (dfMatriculas_filtro2['descricao'] == 'APROVADO')\n",
    "])\n",
    "\n",
    "print(f\"Quantidade de ocorrências de 'unidade' nula  e aluno aprovado pós filtro 2: {df_null_e_aprovado.size}\")\n",
    "print(f\"Diferença de tamanho do dataset antes e pós filtro 2: {dfMatriculas_filtro1.size - dfMatriculas_filtro2.size}\")"
   ]
  },
  {
   "cell_type": "markdown",
   "id": "2cacea87",
   "metadata": {},
   "source": [
    "Mais uma vez, vamos checar como isso afetou a quantidade de valores nulos"
   ]
  },
  {
   "cell_type": "code",
   "execution_count": 9,
   "id": "d608549d",
   "metadata": {},
   "outputs": [
    {
     "name": "stdout",
     "output_type": "stream",
     "text": [
      "=== Comparação de Valores Nulos antes e pós filtro 2 ===\n",
      "                     Nulos_Antes  Nulos_Depois  Diferença\n",
      "id_turma                       0             0          0\n",
      "discente                       0             0          0\n",
      "id_curso                    1681          1138        543\n",
      "unidade                    30305          9137      21168\n",
      "nota                       38136         16968      21168\n",
      "reposicao                  30305          9137      21168\n",
      "faltas_unidade             30305          9137      21168\n",
      "media_final                20305         17294       3011\n",
      "numero_total_faltas        10917         10905         12\n",
      "descricao                      0             0          0\n"
     ]
    }
   ],
   "source": [
    "# Calcula nulos antes e depois\n",
    "nulos_antes = dfMatriculas_filtro1.isna().sum()\n",
    "nulos_depois = dfMatriculas_filtro2.isna().sum()\n",
    "\n",
    "# DataFrame de comparação\n",
    "comparacao_nulos = pd.DataFrame({\n",
    "    'Nulos_Antes': nulos_antes,\n",
    "    'Nulos_Depois': nulos_depois,\n",
    "    'Diferença': nulos_antes - nulos_depois\n",
    "})\n",
    "\n",
    "print(\"=== Comparação de Valores Nulos antes e pós filtro 2 ===\")\n",
    "print(comparacao_nulos)"
   ]
  },
  {
   "cell_type": "markdown",
   "id": "cc0e71cf",
   "metadata": {},
   "source": [
    "Como já foi dito antes, alguns nulos em 'media_final' são esperados. Mas existem casos em que nulos nessa coluna não são esperados, especificamente quando 'descricao' é 'APROVADO' ou 'APROVADO POR NOTA', uma vez que para ser aprovado o aluno deve ter alguma nota média final, ou quando 'descricao' é 'REPROVADO POR NOTA', já que precisa de uma nota para ser reprovado por nota. Vamos explorar esses casos."
   ]
  },
  {
   "cell_type": "code",
   "execution_count": 10,
   "id": "d4bbc8de",
   "metadata": {},
   "outputs": [
    {
     "name": "stdout",
     "output_type": "stream",
     "text": [
      "Valores de 'descricao' que ainda possuem ocorrências de 'media_final' nula: ['DESISTENCIA' 'TRANCADO' 'APROVADO' 'REPROVADO' 'REPROVADO POR FALTAS']\n"
     ]
    }
   ],
   "source": [
    "# Valores únicos de 'descricao' onde 'media_final' é null/NaN\n",
    "valores_unicos_media_nula = (\n",
    "    dfMatriculas_filtro2[\n",
    "        (dfMatriculas_filtro2['media_final'].isna())\n",
    "    ]\n",
    ")['descricao'].unique()\n",
    "\n",
    "print(f\"Valores de 'descricao' que ainda possuem ocorrências de 'media_final' nula: {valores_unicos_media_nula}\")"
   ]
  },
  {
   "cell_type": "markdown",
   "id": "3cbadaf4",
   "metadata": {},
   "source": [
    "'DESISTENCIA', 'TRANCADO', 'REPROVADO' e 'REPROVADO POR FALTAS' são situações em que se é possível ter, dessa forma a única situação em que se ainda tem ocorrências inesperadas de 'media_final' nula é de alunos com 'APROVADO'. Vamos checar explorar essas ocorrências e remover as turmas em que isso acontece."
   ]
  },
  {
   "cell_type": "code",
   "execution_count": 11,
   "id": "1e3146cc",
   "metadata": {},
   "outputs": [
    {
     "name": "stdout",
     "output_type": "stream",
     "text": [
      "Quantidade de ocorrências de média final nula e aluno aprovado: 15000\n",
      "Quantidade de turmas em que existem alunos com média final nula e aluno aprovado: 63\n",
      "Quantidade de ocorrências de 'unidade' nula  e aluno aprovado pós filtro 3: 0\n",
      "Diferença de quantidade de turmas no dataset antes e pós filtro 3: 63\n"
     ]
    }
   ],
   "source": [
    "# Ocorrências de 'media_final' = null/NaN e 'descricao' = 'APROVADO'\n",
    "df_media_nula_e_aprovado = dfMatriculas_filtro2[(\n",
    "    (dfMatriculas_filtro2['media_final'].isna()) &\n",
    "    (dfMatriculas_filtro2['descricao'] == 'APROVADO')\n",
    ")]\n",
    "\n",
    "print(f\"Quantidade de ocorrências de média final nula e aluno aprovado: {df_media_nula_e_aprovado.size}\")\n",
    "\n",
    "# Valores únicos de 'id_turma' onde 'media_final' = null/NaN e 'descricao' = 'APROVADO'\n",
    "turmas_indesejadas = df_media_nula_e_aprovado['id_turma'].unique()\n",
    "print(f\"Quantidade de turmas em que existem alunos com média final nula e aluno aprovado: {turmas_indesejadas.size}\")\n",
    "\n",
    "# Filtrando o dataset para quando 'id_turma' NÃO está nas turmas indesejadas\n",
    "dfMatriculas_filtro3 = dfMatriculas_filtro2[~dfMatriculas_filtro2['id_turma'].isin(turmas_indesejadas)]\n",
    "\n",
    "# Checando se a filtragem foi feita corretamente\n",
    "df_media_nula_e_aprovado = dfMatriculas_filtro3[(\n",
    "    (dfMatriculas_filtro3['media_final'].isna()) &\n",
    "    (dfMatriculas_filtro3['descricao'] == 'APROVADO')\n",
    ")]\n",
    "\n",
    "print(f\"Quantidade de ocorrências de 'unidade' nula  e aluno aprovado pós filtro 3: {df_null_e_aprovado.size}\")\n",
    "print(f\"Diferença de quantidade de turmas no dataset antes e pós filtro 3: {\n",
    "        dfMatriculas_filtro2['id_turma'].unique().size - dfMatriculas_filtro3['id_turma'].unique().size\n",
    "    }\")"
   ]
  },
  {
   "cell_type": "markdown",
   "id": "e843415c",
   "metadata": {},
   "source": [
    "Vamos checar uma última vez como isso afetou a quantidade de nulos"
   ]
  },
  {
   "cell_type": "code",
   "execution_count": 12,
   "id": "ea45f80d",
   "metadata": {},
   "outputs": [
    {
     "name": "stdout",
     "output_type": "stream",
     "text": [
      "=== Comparação de Valores Nulos antes e pós filtro 3 ===\n",
      "                     Nulos_Antes  Nulos_Depois  Diferença\n",
      "id_turma                       0             0          0\n",
      "discente                       0             0          0\n",
      "id_curso                    1138          1136          2\n",
      "unidade                     9137          9103         34\n",
      "nota                       16968         15360       1608\n",
      "reposicao                   9137          9103         34\n",
      "faltas_unidade              9137          9103         34\n",
      "media_final                17294         15686       1608\n",
      "numero_total_faltas        10905         10871         34\n",
      "descricao                      0             0          0\n"
     ]
    }
   ],
   "source": [
    "# Calcula nulos antes e depois\n",
    "nulos_antes = dfMatriculas_filtro2.isna().sum()\n",
    "nulos_depois = dfMatriculas_filtro3.isna().sum()\n",
    "\n",
    "# DataFrame de comparação\n",
    "comparacao_nulos = pd.DataFrame({\n",
    "    'Nulos_Antes': nulos_antes,\n",
    "    'Nulos_Depois': nulos_depois,\n",
    "    'Diferença': nulos_antes - nulos_depois\n",
    "})\n",
    "\n",
    "print(\"=== Comparação de Valores Nulos antes e pós filtro 3 ===\")\n",
    "print(comparacao_nulos)"
   ]
  },
  {
   "cell_type": "markdown",
   "id": "5ded2d05",
   "metadata": {},
   "source": [
    "Por fim, precisamos tratar o fato de que devido as diferentes 'unidade', um mesmo aluno pode aparecer mais de uma vez dentro de uma mesma turma, isso é indesejado pois quando formos calcular a quantidade de aprovados (ou etc) dentro de uma turma, um mesmo aluno será contado mais de uma vez. Para tratar isso basta remover duplicatas de um mesmo aluno numa mesma turma, os outros dados que nos interessam (media final e descrição) não serão afetados uma vez que eles são iguais para todas as ocorrências do aluno."
   ]
  },
  {
   "cell_type": "code",
   "execution_count": 13,
   "id": "ed599041",
   "metadata": {},
   "outputs": [
    {
     "name": "stdout",
     "output_type": "stream",
     "text": [
      "Total de registros antes da remoção: 588680\n",
      "Total de registros após remoção: 145787\n",
      "Total de turmas antes da remoção: 6831\n",
      "Total de turmas após remoção: 6831\n"
     ]
    }
   ],
   "source": [
    "# Remover duplicatas, mantendo apenas a primeira ocorrência de cada aluno por turma\n",
    "dfMatriculas_filtro4 = dfMatriculas_filtro3.drop_duplicates(subset=['id_turma', 'discente'], keep='first')\n",
    "\n",
    "# Verificar resultado\n",
    "print(f\"Total de registros antes da remoção: {len(dfMatriculas_filtro3)}\")\n",
    "print(f\"Total de registros após remoção: {len(dfMatriculas_filtro4)}\")\n",
    "print(f\"Total de turmas antes da remoção: {len(dfMatriculas_filtro3['id_turma'].unique())}\")\n",
    "print(f\"Total de turmas após remoção: {len(dfMatriculas_filtro4['id_turma'].unique())}\")"
   ]
  },
  {
   "cell_type": "markdown",
   "id": "00721b82",
   "metadata": {},
   "source": [
    "Nenhuma turma foi removida, enquanto diversas linhas foram removidas, o que é o resultado esperado."
   ]
  },
  {
   "cell_type": "markdown",
   "id": "99b8d819",
   "metadata": {},
   "source": [
    "# Construindo o novo dataset"
   ]
  },
  {
   "cell_type": "markdown",
   "id": "7be4a119",
   "metadata": {},
   "source": [
    "Com o dataset original limpo, podemos construir o novo dataset. As colunas presentes no novo dataset serão a quantidade de cada categoria de 'descricao', o id da turma e uma média da média final."
   ]
  },
  {
   "cell_type": "code",
   "execution_count": 14,
   "id": "8371a279",
   "metadata": {},
   "outputs": [
    {
     "name": "stdout",
     "output_type": "stream",
     "text": [
      "Categorias (valores únicos) de 'descricao': ['APROVADO' 'DESISTENCIA' 'REPROVADO POR MÉDIA E POR FALTAS' 'TRANCADO'\n",
      " 'APROVADO POR NOTA' 'REPROVADO' 'REPROVADO POR FALTAS'\n",
      " 'REPROVADO POR NOTA E FALTA' 'REPROVADO POR NOTA']\n"
     ]
    }
   ],
   "source": [
    "print(f\"Categorias (valores únicos) de 'descricao': {dfMatriculas_filtro4['descricao'].unique()}\")"
   ]
  },
  {
   "cell_type": "markdown",
   "id": "3b93f936",
   "metadata": {},
   "source": [
    "Esse novo dataset terá as colunas: id_turma; media_final_geral; qtd_aprovados; qtd_desistencias; qtd_reprovados_por_media_e_faltas; qtd_trancados; qtd_aprovados_por_nota; qtd_reprovados; qtd_reprovados_por_faltas; qtd_reprovados_por_nota."
   ]
  },
  {
   "cell_type": "code",
   "execution_count": 15,
   "id": "e31d0e8e",
   "metadata": {},
   "outputs": [],
   "source": [
    "categorias = [\n",
    "    'APROVADO', 'DESISTENCIA', 'REPROVADO POR MÉDIA E POR FALTAS',\n",
    "    'TRANCADO', 'APROVADO POR NOTA', 'REPROVADO',\n",
    "    'REPROVADO POR FALTAS', 'REPROVADO POR NOTA E FALTA',\n",
    "    'REPROVADO POR NOTA'\n",
    "]"
   ]
  },
  {
   "cell_type": "markdown",
   "id": "e2c9a518",
   "metadata": {},
   "source": [
    "\n",
    "Antes de criar o novo dataset, precisamos corrigir o problema da coluna 'media_final' com o tipo 'object', convertendo essa linha para float."
   ]
  },
  {
   "cell_type": "code",
   "execution_count": 16,
   "id": "1807ec4e",
   "metadata": {},
   "outputs": [
    {
     "name": "stdout",
     "output_type": "stream",
     "text": [
      "<class 'pandas.core.frame.DataFrame'>\n",
      "Index: 145787 entries, 0 to 658562\n",
      "Data columns (total 10 columns):\n",
      " #   Column               Non-Null Count   Dtype  \n",
      "---  ------               --------------   -----  \n",
      " 0   id_turma             145787 non-null  int64  \n",
      " 1   discente             145787 non-null  object \n",
      " 2   id_curso             145478 non-null  float64\n",
      " 3   unidade              138942 non-null  float64\n",
      " 4   nota                 137374 non-null  object \n",
      " 5   reposicao            138942 non-null  object \n",
      " 6   faltas_unidade       138942 non-null  float64\n",
      " 7   media_final          137227 non-null  float64\n",
      " 8   numero_total_faltas  138673 non-null  float64\n",
      " 9   descricao            145787 non-null  object \n",
      "dtypes: float64(5), int64(1), object(4)\n",
      "memory usage: 12.2+ MB\n"
     ]
    }
   ],
   "source": [
    "# Função para converter os dados para float\n",
    "def converter_para_float(valor):\n",
    "    try:\n",
    "        if pd.isna(valor):\n",
    "            return np.nan\n",
    "        if isinstance(valor, str):\n",
    "            return float(valor.replace(',', '.'))\n",
    "        return float(valor)\n",
    "    except (ValueError, TypeError):\n",
    "        return np.nan\n",
    "\n",
    "# Criando uma cópia do dataframe para evitar warnings\n",
    "dfMatriculas_filtro4Copia = dfMatriculas_filtro4.copy()\n",
    "\n",
    "# Aplicando a função de conversão no dataset\n",
    "dfMatriculas_filtro4Copia['media_final'] = dfMatriculas_filtro4Copia['media_final'].apply(converter_para_float)\n",
    "\n",
    "# Checando se a conversão foi feita com sucesso\n",
    "dfMatriculas_filtro4Copia.info()"
   ]
  },
  {
   "cell_type": "markdown",
   "id": "b9177b2f",
   "metadata": {},
   "source": [
    "Com a coluna 'media_final' no tipo correto, agora podemos gerar o novo dataset."
   ]
  },
  {
   "cell_type": "code",
   "execution_count": 34,
   "id": "89d47439",
   "metadata": {},
   "outputs": [
    {
     "name": "stdout",
     "output_type": "stream",
     "text": [
      "<class 'pandas.core.frame.DataFrame'>\n",
      "RangeIndex: 6831 entries, 0 to 6830\n",
      "Data columns (total 11 columns):\n",
      " #   Column                                Non-Null Count  Dtype  \n",
      "---  ------                                --------------  -----  \n",
      " 0   id_turma                              6831 non-null   int64  \n",
      " 1   media_final_geral                     6831 non-null   float64\n",
      " 2   qtd_aprovado                          6831 non-null   int64  \n",
      " 3   qtd_desistencia                       6831 non-null   int64  \n",
      " 4   qtd_reprovado_por_média_e_por_faltas  6831 non-null   int64  \n",
      " 5   qtd_trancado                          6831 non-null   int64  \n",
      " 6   qtd_aprovado_por_nota                 6831 non-null   int64  \n",
      " 7   qtd_reprovado                         6831 non-null   int64  \n",
      " 8   qtd_reprovado_por_faltas              6831 non-null   int64  \n",
      " 9   qtd_reprovado_por_nota_e_falta        6831 non-null   int64  \n",
      " 10  qtd_reprovado_por_nota                6831 non-null   int64  \n",
      "dtypes: float64(1), int64(10)\n",
      "memory usage: 587.2 KB\n"
     ]
    }
   ],
   "source": [
    "# Agrupar por turma e calcular média\n",
    "dfMatriculasAgrupado = dfMatriculas_filtro4Copia.groupby('id_turma').agg(\n",
    "    media_final_geral=('media_final', 'mean')\n",
    ")\n",
    "\n",
    "# Calcular as quantidades de cada categoria e criar novas colunas com esses valores\n",
    "for categoria in categorias:\n",
    "    col_name = f'qtd_{categoria.lower().replace(\" \", \"_\")}'\n",
    "    df_temp = (\n",
    "        dfMatriculas_filtro4Copia[dfMatriculas_filtro4Copia['descricao'] == categoria]\n",
    "        .groupby('id_turma')\n",
    "        .size()\n",
    "        .rename(col_name)\n",
    "    )\n",
    "    dfMatriculasAgrupado = dfMatriculasAgrupado.join(df_temp, how='left')\n",
    "\n",
    "# Convertendo tipo e preenchendo nulos com 0 nas colunas criadas\n",
    "dfMatriculasAgrupado = dfMatriculasAgrupado.fillna(0).astype({col: int for col in dfMatriculasAgrupado.columns if col.startswith('qtd_')})\n",
    "dfMatriculasAgrupado = dfMatriculasAgrupado.reset_index()\n",
    "\n",
    "dfMatriculasAgrupado.info()"
   ]
  },
  {
   "cell_type": "markdown",
   "id": "3c49d500",
   "metadata": {},
   "source": [
    "# Gerando um CSV com o novo dataset"
   ]
  },
  {
   "cell_type": "code",
   "execution_count": 20,
   "id": "e4e3f144",
   "metadata": {},
   "outputs": [],
   "source": [
    "dfMatriculasAgrupado.to_csv(\n",
    "    '../CSVs/Gerados/exemplo_turmas-2022.2_agrupado.csv',  # Nome do arquivo de saída\n",
    "    index=False,                # Não incluir o índice no arquivo\n",
    "    sep=';',                    # Separador (padrão é vírgula)\n",
    "    header=True,                # Incluir cabeçalho\n",
    ")"
   ]
  },
  {
   "cell_type": "markdown",
   "id": "0533e578",
   "metadata": {},
   "source": [
    "# Fazendo uma função para o tratamento"
   ]
  },
  {
   "cell_type": "markdown",
   "id": "d9444fc7",
   "metadata": {},
   "source": [
    "Vamos fazer uma função com todo o tratamento, para usar na automação futuramente."
   ]
  },
  {
   "cell_type": "code",
   "execution_count": 43,
   "id": "73c21c79",
   "metadata": {},
   "outputs": [],
   "source": [
    "def processar_matriculas(ano, periodo):\n",
    "    # Configurações iniciais\n",
    "    categorias_descricao = [\n",
    "        'APROVADO', 'DESISTENCIA', 'REPROVADO POR MÉDIA E POR FALTAS',\n",
    "        'TRANCADO', 'APROVADO POR NOTA', 'REPROVADO',\n",
    "        'REPROVADO POR FALTAS', 'REPROVADO POR NOTA E FALTA',\n",
    "        'REPROVADO POR NOTA'\n",
    "    ]\n",
    "    \n",
    "    try:\n",
    "        # Ler o arquivo original\n",
    "        df = pd.read_csv(f\"../CSVs/Baixados/matriculas-{ano}.{periodo}.csv\", sep=';', dtype={'id_turma': str})\n",
    "\n",
    "        # Primeiro filtro - Remover categorias indesejadas\n",
    "        valores_indesejados = ['INDEFERIDO', 'EXCLUIDA', 'CUMPRIU', 'DISPENSADO',\n",
    "                             'EM ESPERA', 'AGUARDANDO DEFERIMENTO', 'MATRICULADO', 'CANCELADO']\n",
    "        df_filtrado = df[~df['descricao'].isin(valores_indesejados)].copy()\n",
    "\n",
    "        # Segundo filtro - Remover unidade nula + aprovados\n",
    "        mascara = ~((df_filtrado['unidade'].isna()) & (df_filtrado['descricao'] == 'APROVADO'))\n",
    "        df_filtrado = df_filtrado[mascara]\n",
    "\n",
    "        # Terceiro filtro - Remover turmas com média nula e aprovados\n",
    "        turmas_problematicas = df_filtrado[\n",
    "            (df_filtrado['media_final'].isna()) & \n",
    "            (df_filtrado['descricao'] == 'APROVADO')\n",
    "        ]['id_turma'].unique()\n",
    "        \n",
    "        df_filtrado = df_filtrado[~df_filtrado['id_turma'].isin(turmas_problematicas)]\n",
    "\n",
    "        # Quarto filtro - Remover duplicatas\n",
    "        df_filtrado = df_filtrado.drop_duplicates(subset=['id_turma', 'discente'], keep='first')\n",
    "\n",
    "        # Converter media_final para float\n",
    "        def converter_media(valor):\n",
    "            try:\n",
    "                if pd.isna(valor): return np.nan\n",
    "                return float(str(valor).replace(',', '.'))\n",
    "            except: return np.nan\n",
    "            \n",
    "        df_filtrado.loc[:, 'media_final'] = df_filtrado['media_final'].apply(converter_media)\n",
    "\n",
    "        # Agrupar dados\n",
    "        df_agrupado = df_filtrado.groupby('id_turma').agg(\n",
    "            media_final_geral=('media_final', 'mean')\n",
    "        )\n",
    "\n",
    "        # Adicionar contagem por categoria\n",
    "        for categoria in categorias_descricao:\n",
    "            col_name = f'qtd_{categoria.lower().replace(\" \", \"_\")}'\n",
    "            temp_df = (\n",
    "                df_filtrado[df_filtrado['descricao'] == categoria]\n",
    "                .groupby('id_turma')\n",
    "                .size()\n",
    "                .rename(col_name)\n",
    "            )\n",
    "            df_agrupado = df_agrupado.join(temp_df, how='left')\n",
    "\n",
    "        # Tratar valores nulos e tipos\n",
    "        df_agrupado = df_agrupado.fillna(0).astype(\n",
    "            {col: int for col in df_agrupado.columns if col.startswith('qtd_')}\n",
    "        )\n",
    "\n",
    "        df_agrupado = df_agrupado.reset_index()\n",
    "\n",
    "\n",
    "        return df_agrupado # para comparar\n",
    "\n",
    "    except Exception as e:\n",
    "        print(f\"Erro ao processar {ano}.{periodo}: {str(e)}\")"
   ]
  },
  {
   "cell_type": "markdown",
   "id": "4c514345",
   "metadata": {},
   "source": [
    "Agora vamos testar a função para o ano de 2022 e periodo 2, e comparar o resultado com nosso dataset gerado anteriormente."
   ]
  },
  {
   "cell_type": "code",
   "execution_count": 44,
   "id": "a876ae57",
   "metadata": {},
   "outputs": [
    {
     "name": "stderr",
     "output_type": "stream",
     "text": [
      "C:\\Users\\pedro\\AppData\\Local\\Temp\\ipykernel_11592\\1359543812.py:60: FutureWarning: Downcasting object dtype arrays on .fillna, .ffill, .bfill is deprecated and will change in a future version. Call result.infer_objects(copy=False) instead. To opt-in to the future behavior, set `pd.set_option('future.no_silent_downcasting', True)`\n",
      "  df_agrupado = df_agrupado.fillna(0).astype(\n"
     ]
    }
   ],
   "source": [
    "dfMatriculasFuncao = processar_matriculas(2022, 2)"
   ]
  },
  {
   "cell_type": "code",
   "execution_count": 45,
   "id": "3b91ae34",
   "metadata": {},
   "outputs": [
    {
     "name": "stdout",
     "output_type": "stream",
     "text": [
      "   id_turma  media_final_geral  qtd_aprovado  qtd_desistencia  \\\n",
      "0  57702272                2.0             0                0   \n",
      "1  57702312                0.0             0                1   \n",
      "2  57702322                0.0             0                1   \n",
      "3  57702332                0.0             0                1   \n",
      "4  57702333                0.0             0                1   \n",
      "\n",
      "   qtd_reprovado_por_média_e_por_faltas  qtd_trancado  qtd_aprovado_por_nota  \\\n",
      "0                                     0             0                      0   \n",
      "1                                     0             0                      0   \n",
      "2                                     0             0                      0   \n",
      "3                                     0             1                      0   \n",
      "4                                     0             1                      0   \n",
      "\n",
      "   qtd_reprovado  qtd_reprovado_por_faltas  qtd_reprovado_por_nota_e_falta  \\\n",
      "0              1                         0                               0   \n",
      "1              0                         0                               0   \n",
      "2              0                         0                               0   \n",
      "3              0                         0                               0   \n",
      "4              0                         0                               0   \n",
      "\n",
      "   qtd_reprovado_por_nota  \n",
      "0                       0  \n",
      "1                       0  \n",
      "2                       0  \n",
      "3                       0  \n",
      "4                       0  \n"
     ]
    }
   ],
   "source": [
    "print(f\"{dfMatriculasFuncao.head(5)}\")"
   ]
  },
  {
   "cell_type": "code",
   "execution_count": 46,
   "id": "60c0fa41",
   "metadata": {},
   "outputs": [
    {
     "name": "stdout",
     "output_type": "stream",
     "text": [
      "   id_turma  media_final_geral  qtd_aprovado  qtd_desistencia  \\\n",
      "0  57702272                2.0             0                0   \n",
      "1  57702312                0.0             0                1   \n",
      "2  57702322                0.0             0                1   \n",
      "3  57702332                0.0             0                1   \n",
      "4  57702333                0.0             0                1   \n",
      "\n",
      "   qtd_reprovado_por_média_e_por_faltas  qtd_trancado  qtd_aprovado_por_nota  \\\n",
      "0                                     0             0                      0   \n",
      "1                                     0             0                      0   \n",
      "2                                     0             0                      0   \n",
      "3                                     0             1                      0   \n",
      "4                                     0             1                      0   \n",
      "\n",
      "   qtd_reprovado  qtd_reprovado_por_faltas  qtd_reprovado_por_nota_e_falta  \\\n",
      "0              1                         0                               0   \n",
      "1              0                         0                               0   \n",
      "2              0                         0                               0   \n",
      "3              0                         0                               0   \n",
      "4              0                         0                               0   \n",
      "\n",
      "   qtd_reprovado_por_nota  \n",
      "0                       0  \n",
      "1                       0  \n",
      "2                       0  \n",
      "3                       0  \n",
      "4                       0  \n"
     ]
    }
   ],
   "source": [
    "print(f\"{dfMatriculasAgrupado.head(5)}\")"
   ]
  }
 ],
 "metadata": {
  "kernelspec": {
   "display_name": ".venv",
   "language": "python",
   "name": "python3"
  },
  "language_info": {
   "codemirror_mode": {
    "name": "ipython",
    "version": 3
   },
   "file_extension": ".py",
   "mimetype": "text/x-python",
   "name": "python",
   "nbconvert_exporter": "python",
   "pygments_lexer": "ipython3",
   "version": "3.12.10"
  }
 },
 "nbformat": 4,
 "nbformat_minor": 5
}
