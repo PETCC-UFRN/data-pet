{
 "cells": [
  {
   "cell_type": "markdown",
   "id": "6e227154",
   "metadata": {},
   "source": [
    "# Limpeza do dataset: \"Suicide Rates & Socioeconomic Factors (1990 - 22)\"\n",
    "### Autor: José Ivo"
   ]
  },
  {
   "cell_type": "markdown",
   "id": "1c0e480d-1977-49d0-b1b8-fe96685ca587",
   "metadata": {},
   "source": [
    "#### Importando as bibliotecas necessárias"
   ]
  },
  {
   "cell_type": "code",
   "execution_count": 26,
   "id": "8a8f0b8d",
   "metadata": {},
   "outputs": [],
   "source": [
    "import pandas as pd\n",
    "import numpy as np\n",
    "import seaborn as sns\n",
    "import matplotlib.pyplot as plt\n"
   ]
  },
  {
   "cell_type": "markdown",
   "id": "51750bd6",
   "metadata": {},
   "source": [
    "#### Visualizando dados superficialmente"
   ]
  },
  {
   "cell_type": "code",
   "execution_count": 27,
   "id": "c61dc21f",
   "metadata": {},
   "outputs": [
    {
     "data": {
      "text/plain": [
       "CountryName\n",
       "Canada                                64\n",
       "Netherlands                           64\n",
       "Singapore                             64\n",
       "Mauritius                             64\n",
       "Luxembourg                            64\n",
       "                                      ..\n",
       "Lebanon                                6\n",
       "Iraq                                   6\n",
       "United Arab Emirates                   6\n",
       "Venezuela (Bolivarian Republic of)     6\n",
       "Cabo Verde                             2\n",
       "Name: count, Length: 101, dtype: int64"
      ]
     },
     "execution_count": 27,
     "metadata": {},
     "output_type": "execute_result"
    }
   ],
   "source": [
    "df = pd.read_csv(\"age_std_suicide_rates_1990-2022.csv\")\n",
    "df = df.dropna()\n",
    "df[\"CountryName\"].value_counts()"
   ]
  },
  {
   "cell_type": "markdown",
   "id": "f29fc08c",
   "metadata": {},
   "source": [
    "#### Limpando colunas com menos de 11 valores nulos\n",
    "\n",
    "Se contarmos as colunas que sempre são preenchidas (RegionCode até Sex) e considerando que se temos a coluna GNI e GDP vazias também temos as colunas GDPPerCapita e GNIPerCapita vazias, para que tenhamos pelo menos 6 valores válidos das taxas a serem analisadas, precisamos de no mínimo 14 valores preenchidos em cada coluna."
   ]
  },
  {
   "cell_type": "code",
   "execution_count": 28,
   "id": "6b6227d6",
   "metadata": {},
   "outputs": [],
   "source": [
    "df = df.dropna(thresh=14)"
   ]
  },
  {
   "cell_type": "code",
   "execution_count": 29,
   "id": "5f552c3c",
   "metadata": {},
   "outputs": [
    {
     "data": {
      "text/plain": [
       "CountryName\n",
       "Canada                                64\n",
       "Netherlands                           64\n",
       "Singapore                             64\n",
       "Mauritius                             64\n",
       "Luxembourg                            64\n",
       "                                      ..\n",
       "Lebanon                                6\n",
       "Iraq                                   6\n",
       "United Arab Emirates                   6\n",
       "Venezuela (Bolivarian Republic of)     6\n",
       "Cabo Verde                             2\n",
       "Name: count, Length: 101, dtype: int64"
      ]
     },
     "execution_count": 29,
     "metadata": {},
     "output_type": "execute_result"
    }
   ],
   "source": [
    "df[\"CountryName\"].value_counts()"
   ]
  },
  {
   "cell_type": "markdown",
   "id": "091b2a2b",
   "metadata": {},
   "source": [
    "#### Inputando valores"
   ]
  },
  {
   "cell_type": "code",
   "execution_count": 30,
   "id": "63cfe827",
   "metadata": {},
   "outputs": [],
   "source": [
    "df = df.replace(np.nan, 0)\n",
    "#Próximo passo (?): Calcular as médias baseadas nos índices dos países (CountryCode)s"
   ]
  },
  {
   "cell_type": "code",
   "execution_count": null,
   "id": "0c736caf",
   "metadata": {},
   "outputs": [],
   "source": []
  }
 ],
 "metadata": {
  "kernelspec": {
   "display_name": "Python 3",
   "language": "python",
   "name": "python3"
  },
  "language_info": {
   "codemirror_mode": {
    "name": "ipython",
    "version": 3
   },
   "file_extension": ".py",
   "mimetype": "text/x-python",
   "name": "python",
   "nbconvert_exporter": "python",
   "pygments_lexer": "ipython3",
   "version": "3.12.9"
  }
 },
 "nbformat": 4,
 "nbformat_minor": 5
}
