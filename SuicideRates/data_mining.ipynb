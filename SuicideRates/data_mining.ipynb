{
 "cells": [
  {
   "cell_type": "markdown",
   "id": "c1511d82",
   "metadata": {},
   "source": [
    "# Pré-processamento"
   ]
  },
  {
   "cell_type": "markdown",
   "id": "f708ffbd",
   "metadata": {},
   "source": [
    "Primeiramente nós importamos as bibliotecas necessárias"
   ]
  },
  {
   "cell_type": "code",
   "execution_count": 1,
   "id": "9971a45a",
   "metadata": {},
   "outputs": [],
   "source": [
    "import pandas as pd\n",
    "import numpy as np"
   ]
  },
  {
   "cell_type": "markdown",
   "id": "74b34373",
   "metadata": {},
   "source": [
    "Abaixo estou lendo o arquivo já tratado pelo time de limpeza de dados."
   ]
  },
  {
   "cell_type": "code",
   "execution_count": 2,
   "id": "58abed9f",
   "metadata": {},
   "outputs": [
    {
     "data": {
      "application/vnd.microsoft.datawrangler.viewer.v0+json": {
       "columns": [
        {
         "name": "index",
         "rawType": "int64",
         "type": "integer"
        },
        {
         "name": "RegionName",
         "rawType": "object",
         "type": "string"
        },
        {
         "name": "CountryName",
         "rawType": "object",
         "type": "string"
        },
        {
         "name": "Year",
         "rawType": "int64",
         "type": "integer"
        },
        {
         "name": "Sex",
         "rawType": "object",
         "type": "string"
        },
        {
         "name": "AgeGroup",
         "rawType": "object",
         "type": "string"
        },
        {
         "name": "SuicideCount",
         "rawType": "float64",
         "type": "float"
        },
        {
         "name": "CauseSpecificDeathPercentage",
         "rawType": "float64",
         "type": "float"
        },
        {
         "name": "DeathRatePer100K",
         "rawType": "float64",
         "type": "float"
        },
        {
         "name": "Population",
         "rawType": "float64",
         "type": "float"
        },
        {
         "name": "GDP",
         "rawType": "float64",
         "type": "float"
        },
        {
         "name": "GDPPerCapita",
         "rawType": "float64",
         "type": "float"
        },
        {
         "name": "InflationRate",
         "rawType": "float64",
         "type": "float"
        },
        {
         "name": "EmploymentPopulationRatio",
         "rawType": "float64",
         "type": "float"
        },
        {
         "name": "AgeMean",
         "rawType": "float64",
         "type": "float"
        }
       ],
       "conversionMethod": "pd.DataFrame",
       "ref": "bd28ac82-e6c0-4fc3-b372-99affbce8321",
       "rows": [
        [
         "0",
         "Europe",
         "Albania",
         "1992",
         "Male",
         "0-14 years",
         "0.0",
         "0.0",
         "0.0",
         "3247039.0",
         "652174990.8",
         "200.8522198",
         "226.0054213",
         "45.315",
         "7.0"
        ],
        [
         "1",
         "Europe",
         "Albania",
         "1992",
         "Male",
         "15-24 years",
         "5.0",
         "3.40136054",
         "3.53107345",
         "3247039.0",
         "652174990.8",
         "200.8522198",
         "226.0054213",
         "45.315",
         "19.5"
        ],
        [
         "2",
         "Europe",
         "Albania",
         "1992",
         "Male",
         "15-24 years",
         "4.0",
         "1.9047619",
         "3.27600328",
         "3247039.0",
         "652174990.8",
         "200.8522198",
         "226.0054213",
         "45.315",
         "19.5"
        ],
        [
         "3",
         "Europe",
         "Albania",
         "1992",
         "Male",
         "25-34 years",
         "3.0",
         "1.35746606",
         "2.48756219",
         "3247039.0",
         "652174990.8",
         "200.8522198",
         "226.0054213",
         "45.315",
         "29.5"
        ],
        [
         "4",
         "Europe",
         "Albania",
         "1992",
         "Male",
         "25-34 years",
         "4.0",
         "2.09424084",
         "3.20256205",
         "3247039.0",
         "652174990.8",
         "200.8522198",
         "226.0054213",
         "45.315",
         "29.5"
        ]
       ],
       "shape": {
        "columns": 14,
        "rows": 5
       }
      },
      "text/html": [
       "<div>\n",
       "<style scoped>\n",
       "    .dataframe tbody tr th:only-of-type {\n",
       "        vertical-align: middle;\n",
       "    }\n",
       "\n",
       "    .dataframe tbody tr th {\n",
       "        vertical-align: top;\n",
       "    }\n",
       "\n",
       "    .dataframe thead th {\n",
       "        text-align: right;\n",
       "    }\n",
       "</style>\n",
       "<table border=\"1\" class=\"dataframe\">\n",
       "  <thead>\n",
       "    <tr style=\"text-align: right;\">\n",
       "      <th></th>\n",
       "      <th>RegionName</th>\n",
       "      <th>CountryName</th>\n",
       "      <th>Year</th>\n",
       "      <th>Sex</th>\n",
       "      <th>AgeGroup</th>\n",
       "      <th>SuicideCount</th>\n",
       "      <th>CauseSpecificDeathPercentage</th>\n",
       "      <th>DeathRatePer100K</th>\n",
       "      <th>Population</th>\n",
       "      <th>GDP</th>\n",
       "      <th>GDPPerCapita</th>\n",
       "      <th>InflationRate</th>\n",
       "      <th>EmploymentPopulationRatio</th>\n",
       "      <th>AgeMean</th>\n",
       "    </tr>\n",
       "  </thead>\n",
       "  <tbody>\n",
       "    <tr>\n",
       "      <th>0</th>\n",
       "      <td>Europe</td>\n",
       "      <td>Albania</td>\n",
       "      <td>1992</td>\n",
       "      <td>Male</td>\n",
       "      <td>0-14 years</td>\n",
       "      <td>0.0</td>\n",
       "      <td>0.000000</td>\n",
       "      <td>0.000000</td>\n",
       "      <td>3247039.0</td>\n",
       "      <td>652174990.8</td>\n",
       "      <td>200.85222</td>\n",
       "      <td>226.005421</td>\n",
       "      <td>45.315</td>\n",
       "      <td>7.0</td>\n",
       "    </tr>\n",
       "    <tr>\n",
       "      <th>1</th>\n",
       "      <td>Europe</td>\n",
       "      <td>Albania</td>\n",
       "      <td>1992</td>\n",
       "      <td>Male</td>\n",
       "      <td>15-24 years</td>\n",
       "      <td>5.0</td>\n",
       "      <td>3.401361</td>\n",
       "      <td>3.531073</td>\n",
       "      <td>3247039.0</td>\n",
       "      <td>652174990.8</td>\n",
       "      <td>200.85222</td>\n",
       "      <td>226.005421</td>\n",
       "      <td>45.315</td>\n",
       "      <td>19.5</td>\n",
       "    </tr>\n",
       "    <tr>\n",
       "      <th>2</th>\n",
       "      <td>Europe</td>\n",
       "      <td>Albania</td>\n",
       "      <td>1992</td>\n",
       "      <td>Male</td>\n",
       "      <td>15-24 years</td>\n",
       "      <td>4.0</td>\n",
       "      <td>1.904762</td>\n",
       "      <td>3.276003</td>\n",
       "      <td>3247039.0</td>\n",
       "      <td>652174990.8</td>\n",
       "      <td>200.85222</td>\n",
       "      <td>226.005421</td>\n",
       "      <td>45.315</td>\n",
       "      <td>19.5</td>\n",
       "    </tr>\n",
       "    <tr>\n",
       "      <th>3</th>\n",
       "      <td>Europe</td>\n",
       "      <td>Albania</td>\n",
       "      <td>1992</td>\n",
       "      <td>Male</td>\n",
       "      <td>25-34 years</td>\n",
       "      <td>3.0</td>\n",
       "      <td>1.357466</td>\n",
       "      <td>2.487562</td>\n",
       "      <td>3247039.0</td>\n",
       "      <td>652174990.8</td>\n",
       "      <td>200.85222</td>\n",
       "      <td>226.005421</td>\n",
       "      <td>45.315</td>\n",
       "      <td>29.5</td>\n",
       "    </tr>\n",
       "    <tr>\n",
       "      <th>4</th>\n",
       "      <td>Europe</td>\n",
       "      <td>Albania</td>\n",
       "      <td>1992</td>\n",
       "      <td>Male</td>\n",
       "      <td>25-34 years</td>\n",
       "      <td>4.0</td>\n",
       "      <td>2.094241</td>\n",
       "      <td>3.202562</td>\n",
       "      <td>3247039.0</td>\n",
       "      <td>652174990.8</td>\n",
       "      <td>200.85222</td>\n",
       "      <td>226.005421</td>\n",
       "      <td>45.315</td>\n",
       "      <td>29.5</td>\n",
       "    </tr>\n",
       "  </tbody>\n",
       "</table>\n",
       "</div>"
      ],
      "text/plain": [
       "  RegionName CountryName  Year   Sex     AgeGroup  SuicideCount  \\\n",
       "0     Europe     Albania  1992  Male   0-14 years           0.0   \n",
       "1     Europe     Albania  1992  Male  15-24 years           5.0   \n",
       "2     Europe     Albania  1992  Male  15-24 years           4.0   \n",
       "3     Europe     Albania  1992  Male  25-34 years           3.0   \n",
       "4     Europe     Albania  1992  Male  25-34 years           4.0   \n",
       "\n",
       "   CauseSpecificDeathPercentage  DeathRatePer100K  Population          GDP  \\\n",
       "0                      0.000000          0.000000   3247039.0  652174990.8   \n",
       "1                      3.401361          3.531073   3247039.0  652174990.8   \n",
       "2                      1.904762          3.276003   3247039.0  652174990.8   \n",
       "3                      1.357466          2.487562   3247039.0  652174990.8   \n",
       "4                      2.094241          3.202562   3247039.0  652174990.8   \n",
       "\n",
       "   GDPPerCapita  InflationRate  EmploymentPopulationRatio  AgeMean  \n",
       "0     200.85222     226.005421                     45.315      7.0  \n",
       "1     200.85222     226.005421                     45.315     19.5  \n",
       "2     200.85222     226.005421                     45.315     19.5  \n",
       "3     200.85222     226.005421                     45.315     29.5  \n",
       "4     200.85222     226.005421                     45.315     29.5  "
      ]
     },
     "execution_count": 2,
     "metadata": {},
     "output_type": "execute_result"
    }
   ],
   "source": [
    "crude_df = pd.read_csv('suicide_rates_limpo.csv', encoding='latin-1')\n",
    "crude_df.head()"
   ]
  },
  {
   "cell_type": "markdown",
   "id": "8eb1d433",
   "metadata": {},
   "source": [
    "Algumas colunas não são relevantes para data mining, e outras terão que ser transformadas para funcionar corretamente, por exemplo Sex e AgeGroup."
   ]
  },
  {
   "cell_type": "code",
   "execution_count": null,
   "id": "279b270b",
   "metadata": {},
   "outputs": [],
   "source": [
    "df = crude_df.drop(columns=[\"AgeGroup\"]) # Já possuímos a coluna AgeMean\n",
    "gender_map = {\"Male\": 0, \"Female\": 1} # Mapa para transformar strings em inteiros\n",
    "df[\"Sex\"] = df[\"Sex\"].map(gender_map)"
   ]
  },
  {
   "cell_type": "code",
   "execution_count": null,
   "id": "a255d66e",
   "metadata": {},
   "outputs": [
    {
     "name": "stdout",
     "output_type": "stream",
     "text": [
      "<class 'pandas.core.frame.DataFrame'>\n",
      "RangeIndex: 90208 entries, 0 to 90207\n",
      "Data columns (total 13 columns):\n",
      " #   Column                        Non-Null Count  Dtype  \n",
      "---  ------                        --------------  -----  \n",
      " 0   RegionName                    90208 non-null  object \n",
      " 1   CountryName                   90208 non-null  object \n",
      " 2   Year                          90208 non-null  int64  \n",
      " 3   Sex                           90208 non-null  int64  \n",
      " 4   SuicideCount                  90208 non-null  float64\n",
      " 5   CauseSpecificDeathPercentage  87055 non-null  float64\n",
      " 6   DeathRatePer100K              83567 non-null  float64\n",
      " 7   Population                    90208 non-null  float64\n",
      " 8   GDP                           89022 non-null  float64\n",
      " 9   GDPPerCapita                  89022 non-null  float64\n",
      " 10  InflationRate                 83206 non-null  float64\n",
      " 11  EmploymentPopulationRatio     88062 non-null  float64\n",
      " 12  AgeMean                       70772 non-null  float64\n",
      "dtypes: float64(9), int64(2), object(2)\n",
      "memory usage: 8.9+ MB\n"
     ]
    }
   ],
   "source": [
    "df.info()"
   ]
  },
  {
   "cell_type": "markdown",
   "id": "a86873c2",
   "metadata": {},
   "source": [
    "Acima vemos que as duas variáveis não numéricas são as variáveis que podemos usar de _label_."
   ]
  }
 ],
 "metadata": {
  "kernelspec": {
   "display_name": ".venv",
   "language": "python",
   "name": "python3"
  },
  "language_info": {
   "codemirror_mode": {
    "name": "ipython",
    "version": 3
   },
   "file_extension": ".py",
   "mimetype": "text/x-python",
   "name": "python",
   "nbconvert_exporter": "python",
   "pygments_lexer": "ipython3",
   "version": "3.12.10"
  }
 },
 "nbformat": 4,
 "nbformat_minor": 5
}
