{
 "cells": [
  {
   "cell_type": "markdown",
   "id": "6b051954",
   "metadata": {},
   "source": [
    "# Análise de Clusters em Indicadores Socioeconômicos e Suicídios por País (1990–2019)"
   ]
  },
  {
   "cell_type": "markdown",
   "id": "9bd71c0c",
   "metadata": {},
   "source": [
    "## É importante ressaltar:\n",
    "\n",
    "#### 1. A principal estratificação do dataset (AgeGroup) se perde ao analisarmos a contagem total de suicídios por ano em determinado país\n",
    "\n",
    "#### 2. Gross Domestic Product (GDP) Per Capita é medido em dólar e o valor do dólar muda ao longo dos anos\n",
    "\n",
    "#### 3. Os clusters apresentarão variações nos indicadores socioeconômicos e na contagem de suicídio, uma vez que países podem mudar de cluster em diferentes décadas. Existirão também outros fatores não listados que afetam as métricas dos grupos.\n",
    "\n",
    "#### 4. A convenção utilizada para avaliar a inflação foi:\n",
    "* Abaixo de 4,5% = baixa;\n",
    "* Entre 4,5% e 10% = média;\n",
    "* Entre 10% e 50% = alta;\n",
    "* Acima de 50% = hiperinflação.\n",
    "\n",
    "#### 5. Para a análise de clusters, utilizaremos conceitos como centro e periferia na economia global, visto que essa dinâmica proporciona a análise de relações entre os países e remove de cena termos como países \"emergentes\", \"subdesenvolvidos\" e \"em desenvolvimento\"."
   ]
  },
  {
   "cell_type": "code",
   "execution_count": 1,
   "id": "d66b40d9",
   "metadata": {},
   "outputs": [],
   "source": [
    "# importações de bibliotecas necessárias\n",
    "import pandas as pd\n",
    "from sklearn.preprocessing import StandardScaler\n",
    "from sklearn.cluster import KMeans\n",
    "import plotly.express as px\n"
   ]
  },
  {
   "cell_type": "code",
   "execution_count": 2,
   "id": "4c8afc92",
   "metadata": {},
   "outputs": [],
   "source": [
    "# carregando o dataset\n",
    "df = pd.read_csv('suicide_rates_limpo.csv')"
   ]
  },
  {
   "cell_type": "code",
   "execution_count": 3,
   "id": "8e1eb7d4",
   "metadata": {},
   "outputs": [],
   "source": [
    "# seleção de colunas relevantes\n",
    "cols = ['CountryName', 'Year', 'GDPPerCapita', 'InflationRate', 'EmploymentPopulationRatio', 'DeathRatePer100K']\n",
    "df_filtered = df[cols]\n",
    "\n",
    "# remoção de valores nulos\n",
    "df_filtered = df_filtered.dropna()\n",
    "\n",
    "# agrupar por país e ano, somando SuicideCount e extraindo a média dos indicadores econômicos\n",
    "df_aggregated = df_filtered.groupby(['CountryName', 'Year']).agg({\n",
    "    'DeathRatePer100K': 'mean',\n",
    "    'GDPPerCapita': 'mean',\n",
    "    'InflationRate': 'mean',\n",
    "    'EmploymentPopulationRatio': 'mean'\n",
    "}).reset_index()\n"
   ]
  },
  {
   "cell_type": "code",
   "execution_count": 4,
   "id": "a4bef428",
   "metadata": {},
   "outputs": [],
   "source": [
    "# coluna de década\n",
    "df_aggregated['Decade'] = pd.cut(df_aggregated['Year'],\n",
    "                                  bins=[1989, 1999, 2009, 2019, 2029],\n",
    "                                  labels=['1990s', '2000s', '2010s', '2020s'],\n",
    "                                  right=True)\n",
    "\n",
    "# removendo anos 2020, 2021 e 2022\n",
    "df_aggregated = df_aggregated[df_aggregated['Decade'] != '2020s']\n",
    "\n",
    "# 3 datasets, um para cada década\n",
    "df_90s = df_aggregated[df_aggregated['Decade'] == '1990s'].copy()\n",
    "df_00s = df_aggregated[df_aggregated['Decade'] == '2000s'].copy()\n",
    "df_10s = df_aggregated[df_aggregated['Decade'] == '2010s'].copy()\n",
    "\n",
    "# remoção de coluna Decade para limpar os datasets\n",
    "for df_decade in [df_90s, df_00s, df_10s]:\n",
    "    df_decade.drop(columns='Decade', inplace=True)\n",
    "\n"
   ]
  },
  {
   "cell_type": "code",
   "execution_count": 5,
   "id": "65cc65b1",
   "metadata": {},
   "outputs": [],
   "source": [
    "def process_clusters(df_decade, n_clusters=4):\n",
    "    features = ['GDPPerCapita', 'InflationRate', 'EmploymentPopulationRatio', 'DeathRatePer100K']\n",
    "    \n",
    "    df_grouped = df_decade.groupby('CountryName')[features].mean().reset_index() # média dos indicadores de cada país ao longo da década correspondente \n",
    "    \n",
    "    scaler = StandardScaler()\n",
    "    X_scaled = scaler.fit_transform(df_grouped[features])\n",
    "    \n",
    "    kmeans = KMeans(n_clusters=n_clusters, random_state=42, n_init='auto')\n",
    "    clusters = kmeans.fit_predict(X_scaled)\n",
    "    \n",
    "    df_grouped['Cluster'] = clusters\n",
    "    \n",
    "    return df_grouped\n",
    "\n",
    "\n",
    "def plot_clusters_on_map(df_grouped, decade_label, cluster_labels=None):\n",
    "    if cluster_labels:\n",
    "        df_grouped['ClusterLabel'] = df_grouped['Cluster'].map(cluster_labels)\n",
    "        color_col = 'ClusterLabel'\n",
    "        color_seq = px.colors.qualitative.Bold\n",
    "    else:\n",
    "        color_col = 'Cluster'\n",
    "        color_seq = None\n",
    "\n",
    "    # Plotagem\n",
    "    fig = px.choropleth(\n",
    "        df_grouped,\n",
    "        locations='CountryName',\n",
    "        locationmode='country names',\n",
    "        color=color_col,\n",
    "        title=f'Clusters por País – {decade_label}',\n",
    "        color_discrete_sequence=color_seq\n",
    "    )\n",
    "    fig.show()\n",
    "\n"
   ]
  },
  {
   "cell_type": "code",
   "execution_count": 6,
   "id": "c5f3da16",
   "metadata": {},
   "outputs": [],
   "source": [
    "# resumo de clusters por década\n",
    "def summarize_clusters(df_clustered, decade_label):\n",
    "    summary = df_clustered.groupby('Cluster')[\n",
    "        ['GDPPerCapita', 'InflationRate', 'EmploymentPopulationRatio', 'DeathRatePer100K']\n",
    "    ].mean().round(2)\n",
    "    \n",
    "    print(f\"\\nDécada: {decade_label}\")\n",
    "    display(summary)"
   ]
  },
  {
   "cell_type": "code",
   "execution_count": 7,
   "id": "f7122864",
   "metadata": {},
   "outputs": [
    {
     "name": "stdout",
     "output_type": "stream",
     "text": [
      "\n",
      "Década: 1990s\n"
     ]
    },
    {
     "data": {
      "application/vnd.microsoft.datawrangler.viewer.v0+json": {
       "columns": [
        {
         "name": "Cluster",
         "rawType": "int32",
         "type": "integer"
        },
        {
         "name": "GDPPerCapita",
         "rawType": "float64",
         "type": "float"
        },
        {
         "name": "InflationRate",
         "rawType": "float64",
         "type": "float"
        },
        {
         "name": "EmploymentPopulationRatio",
         "rawType": "float64",
         "type": "float"
        },
        {
         "name": "DeathRatePer100K",
         "rawType": "float64",
         "type": "float"
        }
       ],
       "conversionMethod": "pd.DataFrame",
       "ref": "11bcb4a3-a109-4de2-ac50-37f70995191f",
       "rows": [
        [
         "0",
         "6286.9",
         "12.38",
         "51.05",
         "12.24"
        ],
        [
         "1",
         "2997.71",
         "243.25",
         "52.49",
         "36.68"
        ],
        [
         "2",
         "27214.26",
         "2.64",
         "57.75",
         "19.96"
        ],
        [
         "3",
         "5491.72",
         "47.03",
         "65.59",
         "5.23"
        ]
       ],
       "shape": {
        "columns": 4,
        "rows": 4
       }
      },
      "text/html": [
       "<div>\n",
       "<style scoped>\n",
       "    .dataframe tbody tr th:only-of-type {\n",
       "        vertical-align: middle;\n",
       "    }\n",
       "\n",
       "    .dataframe tbody tr th {\n",
       "        vertical-align: top;\n",
       "    }\n",
       "\n",
       "    .dataframe thead th {\n",
       "        text-align: right;\n",
       "    }\n",
       "</style>\n",
       "<table border=\"1\" class=\"dataframe\">\n",
       "  <thead>\n",
       "    <tr style=\"text-align: right;\">\n",
       "      <th></th>\n",
       "      <th>GDPPerCapita</th>\n",
       "      <th>InflationRate</th>\n",
       "      <th>EmploymentPopulationRatio</th>\n",
       "      <th>DeathRatePer100K</th>\n",
       "    </tr>\n",
       "    <tr>\n",
       "      <th>Cluster</th>\n",
       "      <th></th>\n",
       "      <th></th>\n",
       "      <th></th>\n",
       "      <th></th>\n",
       "    </tr>\n",
       "  </thead>\n",
       "  <tbody>\n",
       "    <tr>\n",
       "      <th>0</th>\n",
       "      <td>6286.90</td>\n",
       "      <td>12.38</td>\n",
       "      <td>51.05</td>\n",
       "      <td>12.24</td>\n",
       "    </tr>\n",
       "    <tr>\n",
       "      <th>1</th>\n",
       "      <td>2997.71</td>\n",
       "      <td>243.25</td>\n",
       "      <td>52.49</td>\n",
       "      <td>36.68</td>\n",
       "    </tr>\n",
       "    <tr>\n",
       "      <th>2</th>\n",
       "      <td>27214.26</td>\n",
       "      <td>2.64</td>\n",
       "      <td>57.75</td>\n",
       "      <td>19.96</td>\n",
       "    </tr>\n",
       "    <tr>\n",
       "      <th>3</th>\n",
       "      <td>5491.72</td>\n",
       "      <td>47.03</td>\n",
       "      <td>65.59</td>\n",
       "      <td>5.23</td>\n",
       "    </tr>\n",
       "  </tbody>\n",
       "</table>\n",
       "</div>"
      ],
      "text/plain": [
       "         GDPPerCapita  InflationRate  EmploymentPopulationRatio  \\\n",
       "Cluster                                                           \n",
       "0             6286.90          12.38                      51.05   \n",
       "1             2997.71         243.25                      52.49   \n",
       "2            27214.26           2.64                      57.75   \n",
       "3             5491.72          47.03                      65.59   \n",
       "\n",
       "         DeathRatePer100K  \n",
       "Cluster                    \n",
       "0                   12.24  \n",
       "1                   36.68  \n",
       "2                   19.96  \n",
       "3                    5.23  "
      ]
     },
     "metadata": {},
     "output_type": "display_data"
    }
   ],
   "source": [
    "df_90s_clustered = process_clusters(df_90s)\n",
    "summarize_clusters(df_90s_clustered, '1990s')"
   ]
  },
  {
   "cell_type": "markdown",
   "id": "10e3fa8f",
   "metadata": {},
   "source": [
    "Para a década de 1990, é possível perceber:\n",
    "\n",
    "* Cluster 0: 2º menor índice médio de suicídios/100k, alta inflação, 2º maior GDP Per Capita;\n",
    "* Cluster 1: Maior índice médio de suicídios/100k, hiperinflação, menor GDP Per Capita;\n",
    "* Cluster 2: 2º maior índice médio de suicídios/100k, baixa inflação, maior GDP Per Capita;\n",
    "* Cluster 3: Menor índice médio de suicídios/100k, altíssima inflação, 2º menor GDP Per Capita;\n",
    "\n",
    "A partir disso, podemos supor:\n",
    "\n",
    "* Cluster 0 - Periferia na economia global, médio suicídio;\n",
    "* Cluster 1 - Periferia na economia global, alto suicídio;\n",
    "* Cluster 2 - Centro na economia global, médio suicídio;\n",
    "* Cluster 3 - Periferia na economia global, baixo suicídio."
   ]
  },
  {
   "cell_type": "code",
   "execution_count": 8,
   "id": "4b971358",
   "metadata": {},
   "outputs": [
    {
     "data": {
      "application/vnd.plotly.v1+json": {
       "config": {
        "plotlyServerURL": "https://plot.ly"
       },
       "data": [
        {
         "colorscale": [
          [
           0,
           "rgb(127, 60, 141)"
          ],
          [
           1,
           "rgb(127, 60, 141)"
          ]
         ],
         "geo": "geo",
         "hovertemplate": "ClusterLabel=Periferia, médio suicídio<br>CountryName=%{location}<extra></extra>",
         "locationmode": "country names",
         "locations": [
          "Albania",
          "Barbados",
          "Belize",
          "Chile",
          "Costa Rica",
          "Cyprus",
          "Czechia",
          "Dominican Republic",
          "El Salvador",
          "Greece",
          "Guyana",
          "Ireland",
          "Italy",
          "Malta",
          "Mauritius",
          "Mexico",
          "North Macedonia",
          "Panama",
          "Poland",
          "Portugal",
          "Republic of Korea",
          "Republic of Moldova",
          "Saint Lucia",
          "Saint Vincent and the Grenadines",
          "Slovakia",
          "South Africa",
          "Spain",
          "Suriname",
          "Syrian Arab Republic",
          "Trinidad and Tobago",
          "Uruguay"
         ],
         "name": "Periferia, médio suicídio",
         "showlegend": true,
         "showscale": false,
         "type": "choropleth",
         "z": [
          1,
          1,
          1,
          1,
          1,
          1,
          1,
          1,
          1,
          1,
          1,
          1,
          1,
          1,
          1,
          1,
          1,
          1,
          1,
          1,
          1,
          1,
          1,
          1,
          1,
          1,
          1,
          1,
          1,
          1,
          1
         ]
        },
        {
         "colorscale": [
          [
           0,
           "rgb(17, 165, 121)"
          ],
          [
           1,
           "rgb(17, 165, 121)"
          ]
         ],
         "geo": "geo",
         "hovertemplate": "ClusterLabel=Periferia, alto suicídio<br>CountryName=%{location}<extra></extra>",
         "locationmode": "country names",
         "locations": [
          "Armenia",
          "Belarus",
          "Brazil",
          "Bulgaria",
          "Croatia",
          "Estonia",
          "Hungary",
          "Kazakhstan",
          "Latvia",
          "Lithuania",
          "Russian Federation",
          "Serbia",
          "Slovenia",
          "Sri Lanka",
          "Ukraine"
         ],
         "name": "Periferia, alto suicídio",
         "showlegend": true,
         "showscale": false,
         "type": "choropleth",
         "z": [
          1,
          1,
          1,
          1,
          1,
          1,
          1,
          1,
          1,
          1,
          1,
          1,
          1,
          1,
          1
         ]
        },
        {
         "colorscale": [
          [
           0,
           "rgb(57, 105, 172)"
          ],
          [
           1,
           "rgb(57, 105, 172)"
          ]
         ],
         "geo": "geo",
         "hovertemplate": "ClusterLabel=Centro, médio suicídio<br>CountryName=%{location}<extra></extra>",
         "locationmode": "country names",
         "locations": [
          "Australia",
          "Austria",
          "Belgium",
          "Canada",
          "China, Hong Kong SAR",
          "Denmark",
          "Finland",
          "France",
          "Germany",
          "Iceland",
          "Israel",
          "Japan",
          "Luxembourg",
          "Netherlands",
          "New Zealand",
          "Norway",
          "Singapore",
          "Sweden",
          "Switzerland",
          "United Kingdom of Great Britain and Northern Ireland",
          "United States of America"
         ],
         "name": "Centro, médio suicídio",
         "showlegend": true,
         "showscale": false,
         "type": "choropleth",
         "z": [
          1,
          1,
          1,
          1,
          1,
          1,
          1,
          1,
          1,
          1,
          1,
          1,
          1,
          1,
          1,
          1,
          1,
          1,
          1,
          1,
          1
         ]
        },
        {
         "colorscale": [
          [
           0,
           "rgb(242, 183, 1)"
          ],
          [
           1,
           "rgb(242, 183, 1)"
          ]
         ],
         "geo": "geo",
         "hovertemplate": "ClusterLabel=Periferia, baixo suicídio<br>CountryName=%{location}<extra></extra>",
         "locationmode": "country names",
         "locations": [
          "Azerbaijan",
          "Bahamas",
          "Bahrain",
          "Brunei Darussalam",
          "Colombia",
          "Ecuador",
          "Georgia",
          "Guatemala",
          "Jamaica",
          "Kuwait",
          "Kyrgyzstan",
          "Peru",
          "Philippines",
          "Qatar",
          "Romania",
          "Thailand"
         ],
         "name": "Periferia, baixo suicídio",
         "showlegend": true,
         "showscale": false,
         "type": "choropleth",
         "z": [
          1,
          1,
          1,
          1,
          1,
          1,
          1,
          1,
          1,
          1,
          1,
          1,
          1,
          1,
          1,
          1
         ]
        }
       ],
       "layout": {
        "geo": {
         "center": {},
         "domain": {
          "x": [
           0,
           1
          ],
          "y": [
           0,
           1
          ]
         }
        },
        "legend": {
         "title": {
          "text": "ClusterLabel"
         },
         "tracegroupgap": 0
        },
        "template": {
         "data": {
          "bar": [
           {
            "error_x": {
             "color": "#2a3f5f"
            },
            "error_y": {
             "color": "#2a3f5f"
            },
            "marker": {
             "line": {
              "color": "#E5ECF6",
              "width": 0.5
             },
             "pattern": {
              "fillmode": "overlay",
              "size": 10,
              "solidity": 0.2
             }
            },
            "type": "bar"
           }
          ],
          "barpolar": [
           {
            "marker": {
             "line": {
              "color": "#E5ECF6",
              "width": 0.5
             },
             "pattern": {
              "fillmode": "overlay",
              "size": 10,
              "solidity": 0.2
             }
            },
            "type": "barpolar"
           }
          ],
          "carpet": [
           {
            "aaxis": {
             "endlinecolor": "#2a3f5f",
             "gridcolor": "white",
             "linecolor": "white",
             "minorgridcolor": "white",
             "startlinecolor": "#2a3f5f"
            },
            "baxis": {
             "endlinecolor": "#2a3f5f",
             "gridcolor": "white",
             "linecolor": "white",
             "minorgridcolor": "white",
             "startlinecolor": "#2a3f5f"
            },
            "type": "carpet"
           }
          ],
          "choropleth": [
           {
            "colorbar": {
             "outlinewidth": 0,
             "ticks": ""
            },
            "type": "choropleth"
           }
          ],
          "contour": [
           {
            "colorbar": {
             "outlinewidth": 0,
             "ticks": ""
            },
            "colorscale": [
             [
              0,
              "#0d0887"
             ],
             [
              0.1111111111111111,
              "#46039f"
             ],
             [
              0.2222222222222222,
              "#7201a8"
             ],
             [
              0.3333333333333333,
              "#9c179e"
             ],
             [
              0.4444444444444444,
              "#bd3786"
             ],
             [
              0.5555555555555556,
              "#d8576b"
             ],
             [
              0.6666666666666666,
              "#ed7953"
             ],
             [
              0.7777777777777778,
              "#fb9f3a"
             ],
             [
              0.8888888888888888,
              "#fdca26"
             ],
             [
              1,
              "#f0f921"
             ]
            ],
            "type": "contour"
           }
          ],
          "contourcarpet": [
           {
            "colorbar": {
             "outlinewidth": 0,
             "ticks": ""
            },
            "type": "contourcarpet"
           }
          ],
          "heatmap": [
           {
            "colorbar": {
             "outlinewidth": 0,
             "ticks": ""
            },
            "colorscale": [
             [
              0,
              "#0d0887"
             ],
             [
              0.1111111111111111,
              "#46039f"
             ],
             [
              0.2222222222222222,
              "#7201a8"
             ],
             [
              0.3333333333333333,
              "#9c179e"
             ],
             [
              0.4444444444444444,
              "#bd3786"
             ],
             [
              0.5555555555555556,
              "#d8576b"
             ],
             [
              0.6666666666666666,
              "#ed7953"
             ],
             [
              0.7777777777777778,
              "#fb9f3a"
             ],
             [
              0.8888888888888888,
              "#fdca26"
             ],
             [
              1,
              "#f0f921"
             ]
            ],
            "type": "heatmap"
           }
          ],
          "histogram": [
           {
            "marker": {
             "pattern": {
              "fillmode": "overlay",
              "size": 10,
              "solidity": 0.2
             }
            },
            "type": "histogram"
           }
          ],
          "histogram2d": [
           {
            "colorbar": {
             "outlinewidth": 0,
             "ticks": ""
            },
            "colorscale": [
             [
              0,
              "#0d0887"
             ],
             [
              0.1111111111111111,
              "#46039f"
             ],
             [
              0.2222222222222222,
              "#7201a8"
             ],
             [
              0.3333333333333333,
              "#9c179e"
             ],
             [
              0.4444444444444444,
              "#bd3786"
             ],
             [
              0.5555555555555556,
              "#d8576b"
             ],
             [
              0.6666666666666666,
              "#ed7953"
             ],
             [
              0.7777777777777778,
              "#fb9f3a"
             ],
             [
              0.8888888888888888,
              "#fdca26"
             ],
             [
              1,
              "#f0f921"
             ]
            ],
            "type": "histogram2d"
           }
          ],
          "histogram2dcontour": [
           {
            "colorbar": {
             "outlinewidth": 0,
             "ticks": ""
            },
            "colorscale": [
             [
              0,
              "#0d0887"
             ],
             [
              0.1111111111111111,
              "#46039f"
             ],
             [
              0.2222222222222222,
              "#7201a8"
             ],
             [
              0.3333333333333333,
              "#9c179e"
             ],
             [
              0.4444444444444444,
              "#bd3786"
             ],
             [
              0.5555555555555556,
              "#d8576b"
             ],
             [
              0.6666666666666666,
              "#ed7953"
             ],
             [
              0.7777777777777778,
              "#fb9f3a"
             ],
             [
              0.8888888888888888,
              "#fdca26"
             ],
             [
              1,
              "#f0f921"
             ]
            ],
            "type": "histogram2dcontour"
           }
          ],
          "mesh3d": [
           {
            "colorbar": {
             "outlinewidth": 0,
             "ticks": ""
            },
            "type": "mesh3d"
           }
          ],
          "parcoords": [
           {
            "line": {
             "colorbar": {
              "outlinewidth": 0,
              "ticks": ""
             }
            },
            "type": "parcoords"
           }
          ],
          "pie": [
           {
            "automargin": true,
            "type": "pie"
           }
          ],
          "scatter": [
           {
            "fillpattern": {
             "fillmode": "overlay",
             "size": 10,
             "solidity": 0.2
            },
            "type": "scatter"
           }
          ],
          "scatter3d": [
           {
            "line": {
             "colorbar": {
              "outlinewidth": 0,
              "ticks": ""
             }
            },
            "marker": {
             "colorbar": {
              "outlinewidth": 0,
              "ticks": ""
             }
            },
            "type": "scatter3d"
           }
          ],
          "scattercarpet": [
           {
            "marker": {
             "colorbar": {
              "outlinewidth": 0,
              "ticks": ""
             }
            },
            "type": "scattercarpet"
           }
          ],
          "scattergeo": [
           {
            "marker": {
             "colorbar": {
              "outlinewidth": 0,
              "ticks": ""
             }
            },
            "type": "scattergeo"
           }
          ],
          "scattergl": [
           {
            "marker": {
             "colorbar": {
              "outlinewidth": 0,
              "ticks": ""
             }
            },
            "type": "scattergl"
           }
          ],
          "scattermap": [
           {
            "marker": {
             "colorbar": {
              "outlinewidth": 0,
              "ticks": ""
             }
            },
            "type": "scattermap"
           }
          ],
          "scattermapbox": [
           {
            "marker": {
             "colorbar": {
              "outlinewidth": 0,
              "ticks": ""
             }
            },
            "type": "scattermapbox"
           }
          ],
          "scatterpolar": [
           {
            "marker": {
             "colorbar": {
              "outlinewidth": 0,
              "ticks": ""
             }
            },
            "type": "scatterpolar"
           }
          ],
          "scatterpolargl": [
           {
            "marker": {
             "colorbar": {
              "outlinewidth": 0,
              "ticks": ""
             }
            },
            "type": "scatterpolargl"
           }
          ],
          "scatterternary": [
           {
            "marker": {
             "colorbar": {
              "outlinewidth": 0,
              "ticks": ""
             }
            },
            "type": "scatterternary"
           }
          ],
          "surface": [
           {
            "colorbar": {
             "outlinewidth": 0,
             "ticks": ""
            },
            "colorscale": [
             [
              0,
              "#0d0887"
             ],
             [
              0.1111111111111111,
              "#46039f"
             ],
             [
              0.2222222222222222,
              "#7201a8"
             ],
             [
              0.3333333333333333,
              "#9c179e"
             ],
             [
              0.4444444444444444,
              "#bd3786"
             ],
             [
              0.5555555555555556,
              "#d8576b"
             ],
             [
              0.6666666666666666,
              "#ed7953"
             ],
             [
              0.7777777777777778,
              "#fb9f3a"
             ],
             [
              0.8888888888888888,
              "#fdca26"
             ],
             [
              1,
              "#f0f921"
             ]
            ],
            "type": "surface"
           }
          ],
          "table": [
           {
            "cells": {
             "fill": {
              "color": "#EBF0F8"
             },
             "line": {
              "color": "white"
             }
            },
            "header": {
             "fill": {
              "color": "#C8D4E3"
             },
             "line": {
              "color": "white"
             }
            },
            "type": "table"
           }
          ]
         },
         "layout": {
          "annotationdefaults": {
           "arrowcolor": "#2a3f5f",
           "arrowhead": 0,
           "arrowwidth": 1
          },
          "autotypenumbers": "strict",
          "coloraxis": {
           "colorbar": {
            "outlinewidth": 0,
            "ticks": ""
           }
          },
          "colorscale": {
           "diverging": [
            [
             0,
             "#8e0152"
            ],
            [
             0.1,
             "#c51b7d"
            ],
            [
             0.2,
             "#de77ae"
            ],
            [
             0.3,
             "#f1b6da"
            ],
            [
             0.4,
             "#fde0ef"
            ],
            [
             0.5,
             "#f7f7f7"
            ],
            [
             0.6,
             "#e6f5d0"
            ],
            [
             0.7,
             "#b8e186"
            ],
            [
             0.8,
             "#7fbc41"
            ],
            [
             0.9,
             "#4d9221"
            ],
            [
             1,
             "#276419"
            ]
           ],
           "sequential": [
            [
             0,
             "#0d0887"
            ],
            [
             0.1111111111111111,
             "#46039f"
            ],
            [
             0.2222222222222222,
             "#7201a8"
            ],
            [
             0.3333333333333333,
             "#9c179e"
            ],
            [
             0.4444444444444444,
             "#bd3786"
            ],
            [
             0.5555555555555556,
             "#d8576b"
            ],
            [
             0.6666666666666666,
             "#ed7953"
            ],
            [
             0.7777777777777778,
             "#fb9f3a"
            ],
            [
             0.8888888888888888,
             "#fdca26"
            ],
            [
             1,
             "#f0f921"
            ]
           ],
           "sequentialminus": [
            [
             0,
             "#0d0887"
            ],
            [
             0.1111111111111111,
             "#46039f"
            ],
            [
             0.2222222222222222,
             "#7201a8"
            ],
            [
             0.3333333333333333,
             "#9c179e"
            ],
            [
             0.4444444444444444,
             "#bd3786"
            ],
            [
             0.5555555555555556,
             "#d8576b"
            ],
            [
             0.6666666666666666,
             "#ed7953"
            ],
            [
             0.7777777777777778,
             "#fb9f3a"
            ],
            [
             0.8888888888888888,
             "#fdca26"
            ],
            [
             1,
             "#f0f921"
            ]
           ]
          },
          "colorway": [
           "#636efa",
           "#EF553B",
           "#00cc96",
           "#ab63fa",
           "#FFA15A",
           "#19d3f3",
           "#FF6692",
           "#B6E880",
           "#FF97FF",
           "#FECB52"
          ],
          "font": {
           "color": "#2a3f5f"
          },
          "geo": {
           "bgcolor": "white",
           "lakecolor": "white",
           "landcolor": "#E5ECF6",
           "showlakes": true,
           "showland": true,
           "subunitcolor": "white"
          },
          "hoverlabel": {
           "align": "left"
          },
          "hovermode": "closest",
          "mapbox": {
           "style": "light"
          },
          "paper_bgcolor": "white",
          "plot_bgcolor": "#E5ECF6",
          "polar": {
           "angularaxis": {
            "gridcolor": "white",
            "linecolor": "white",
            "ticks": ""
           },
           "bgcolor": "#E5ECF6",
           "radialaxis": {
            "gridcolor": "white",
            "linecolor": "white",
            "ticks": ""
           }
          },
          "scene": {
           "xaxis": {
            "backgroundcolor": "#E5ECF6",
            "gridcolor": "white",
            "gridwidth": 2,
            "linecolor": "white",
            "showbackground": true,
            "ticks": "",
            "zerolinecolor": "white"
           },
           "yaxis": {
            "backgroundcolor": "#E5ECF6",
            "gridcolor": "white",
            "gridwidth": 2,
            "linecolor": "white",
            "showbackground": true,
            "ticks": "",
            "zerolinecolor": "white"
           },
           "zaxis": {
            "backgroundcolor": "#E5ECF6",
            "gridcolor": "white",
            "gridwidth": 2,
            "linecolor": "white",
            "showbackground": true,
            "ticks": "",
            "zerolinecolor": "white"
           }
          },
          "shapedefaults": {
           "line": {
            "color": "#2a3f5f"
           }
          },
          "ternary": {
           "aaxis": {
            "gridcolor": "white",
            "linecolor": "white",
            "ticks": ""
           },
           "baxis": {
            "gridcolor": "white",
            "linecolor": "white",
            "ticks": ""
           },
           "bgcolor": "#E5ECF6",
           "caxis": {
            "gridcolor": "white",
            "linecolor": "white",
            "ticks": ""
           }
          },
          "title": {
           "x": 0.05
          },
          "xaxis": {
           "automargin": true,
           "gridcolor": "white",
           "linecolor": "white",
           "ticks": "",
           "title": {
            "standoff": 15
           },
           "zerolinecolor": "white",
           "zerolinewidth": 2
          },
          "yaxis": {
           "automargin": true,
           "gridcolor": "white",
           "linecolor": "white",
           "ticks": "",
           "title": {
            "standoff": 15
           },
           "zerolinecolor": "white",
           "zerolinewidth": 2
          }
         }
        },
        "title": {
         "text": "Clusters por País – 1990s"
        }
       }
      }
     },
     "metadata": {},
     "output_type": "display_data"
    }
   ],
   "source": [
    "cluster_labels_90s = {\n",
    "    0: 'Periferia, médio suicídio',\n",
    "    1: 'Periferia, alto suicídio',\n",
    "    2: 'Centro, médio suicídio',\n",
    "    3: 'Periferia, baixo suicídio'\n",
    "}\n",
    "\n",
    "df_90s_clustered['ClusterLabel'] = df_90s_clustered['Cluster'].map(cluster_labels_90s)\n",
    "\n",
    "plot_clusters_on_map(df_90s_clustered, '1990s', cluster_labels_90s)\n"
   ]
  },
  {
   "cell_type": "code",
   "execution_count": 9,
   "id": "befe0148",
   "metadata": {},
   "outputs": [
    {
     "name": "stdout",
     "output_type": "stream",
     "text": [
      "\n",
      "Década: 2000s\n"
     ]
    },
    {
     "data": {
      "application/vnd.microsoft.datawrangler.viewer.v0+json": {
       "columns": [
        {
         "name": "Cluster",
         "rawType": "int32",
         "type": "integer"
        },
        {
         "name": "GDPPerCapita",
         "rawType": "float64",
         "type": "float"
        },
        {
         "name": "InflationRate",
         "rawType": "float64",
         "type": "float"
        },
        {
         "name": "EmploymentPopulationRatio",
         "rawType": "float64",
         "type": "float"
        },
        {
         "name": "DeathRatePer100K",
         "rawType": "float64",
         "type": "float"
        }
       ],
       "conversionMethod": "pd.DataFrame",
       "ref": "1b8bd757-7644-450a-989c-4a1227816366",
       "rows": [
        [
         "0",
         "6810.83",
         "8.91",
         "51.04",
         "31.69"
        ],
        [
         "1",
         "38663.25",
         "2.27",
         "61.48",
         "13.86"
        ],
        [
         "2",
         "3183.39",
         "48.13",
         "55.07",
         "38.26"
        ],
        [
         "3",
         "7256.45",
         "6.2",
         "53.82",
         "7.16"
        ]
       ],
       "shape": {
        "columns": 4,
        "rows": 4
       }
      },
      "text/html": [
       "<div>\n",
       "<style scoped>\n",
       "    .dataframe tbody tr th:only-of-type {\n",
       "        vertical-align: middle;\n",
       "    }\n",
       "\n",
       "    .dataframe tbody tr th {\n",
       "        vertical-align: top;\n",
       "    }\n",
       "\n",
       "    .dataframe thead th {\n",
       "        text-align: right;\n",
       "    }\n",
       "</style>\n",
       "<table border=\"1\" class=\"dataframe\">\n",
       "  <thead>\n",
       "    <tr style=\"text-align: right;\">\n",
       "      <th></th>\n",
       "      <th>GDPPerCapita</th>\n",
       "      <th>InflationRate</th>\n",
       "      <th>EmploymentPopulationRatio</th>\n",
       "      <th>DeathRatePer100K</th>\n",
       "    </tr>\n",
       "    <tr>\n",
       "      <th>Cluster</th>\n",
       "      <th></th>\n",
       "      <th></th>\n",
       "      <th></th>\n",
       "      <th></th>\n",
       "    </tr>\n",
       "  </thead>\n",
       "  <tbody>\n",
       "    <tr>\n",
       "      <th>0</th>\n",
       "      <td>6810.83</td>\n",
       "      <td>8.91</td>\n",
       "      <td>51.04</td>\n",
       "      <td>31.69</td>\n",
       "    </tr>\n",
       "    <tr>\n",
       "      <th>1</th>\n",
       "      <td>38663.25</td>\n",
       "      <td>2.27</td>\n",
       "      <td>61.48</td>\n",
       "      <td>13.86</td>\n",
       "    </tr>\n",
       "    <tr>\n",
       "      <th>2</th>\n",
       "      <td>3183.39</td>\n",
       "      <td>48.13</td>\n",
       "      <td>55.07</td>\n",
       "      <td>38.26</td>\n",
       "    </tr>\n",
       "    <tr>\n",
       "      <th>3</th>\n",
       "      <td>7256.45</td>\n",
       "      <td>6.20</td>\n",
       "      <td>53.82</td>\n",
       "      <td>7.16</td>\n",
       "    </tr>\n",
       "  </tbody>\n",
       "</table>\n",
       "</div>"
      ],
      "text/plain": [
       "         GDPPerCapita  InflationRate  EmploymentPopulationRatio  \\\n",
       "Cluster                                                           \n",
       "0             6810.83           8.91                      51.04   \n",
       "1            38663.25           2.27                      61.48   \n",
       "2             3183.39          48.13                      55.07   \n",
       "3             7256.45           6.20                      53.82   \n",
       "\n",
       "         DeathRatePer100K  \n",
       "Cluster                    \n",
       "0                   31.69  \n",
       "1                   13.86  \n",
       "2                   38.26  \n",
       "3                    7.16  "
      ]
     },
     "metadata": {},
     "output_type": "display_data"
    }
   ],
   "source": [
    "df_00s_clustered = process_clusters(df_00s)\n",
    "summarize_clusters(df_00s_clustered, '2000s')"
   ]
  },
  {
   "cell_type": "markdown",
   "id": "4a14649f",
   "metadata": {},
   "source": [
    "Para a década de 2000, é possível perceber:\n",
    "\n",
    "* Cluster 0: 2º maior índice médio de suicídios/100k, média inflação, menor GDP Per Capita;\n",
    "* Cluster 1: 2º menor índice médio de suicídios/100k, baixa inflação, maior GDP Per Capita;\n",
    "* Cluster 2: Maior índice médio de suicídios/100k, alta inflação, menor GDP Per Capita;\n",
    "* Cluster 3: Menor índice médio de suicídios/100k, média inflação, 2º maior GDP Per Capita.\n",
    "\n",
    "A partir disso, podemos supor:\n",
    "\n",
    "* Cluster 0 - Periferia na economia global, médio suicídio;\n",
    "* Cluster 1 - Centro na economia global, médio suicídio;\n",
    "* Cluster 2 - Periferia na economia global, alto suicídio;\n",
    "* Cluster 3 - Periferia na economia global, baixo suicídio."
   ]
  },
  {
   "cell_type": "code",
   "execution_count": 10,
   "id": "c4fcfc02",
   "metadata": {},
   "outputs": [
    {
     "data": {
      "application/vnd.plotly.v1+json": {
       "config": {
        "plotlyServerURL": "https://plot.ly"
       },
       "data": [
        {
         "colorscale": [
          [
           0,
           "rgb(127, 60, 141)"
          ],
          [
           1,
           "rgb(127, 60, 141)"
          ]
         ],
         "geo": "geo",
         "hovertemplate": "ClusterLabel=Periferia, baixo suicídio<br>CountryName=%{location}<extra></extra>",
         "locationmode": "country names",
         "locations": [
          "Albania",
          "Armenia",
          "Azerbaijan",
          "Barbados",
          "Belize",
          "Brazil",
          "Chile",
          "Colombia",
          "Costa Rica",
          "Czechia",
          "Dominican Republic",
          "Ecuador",
          "Egypt",
          "El Salvador",
          "Fiji",
          "Georgia",
          "Greece",
          "Guatemala",
          "Iraq",
          "Israel",
          "Italy",
          "Jamaica",
          "Jordan",
          "Kyrgyzstan",
          "Malaysia",
          "Maldives",
          "Malta",
          "Mauritius",
          "Mexico",
          "Nicaragua",
          "North Macedonia",
          "Oman",
          "Panama",
          "Paraguay",
          "Peru",
          "Philippines",
          "Poland",
          "Portugal",
          "Romania",
          "Saint Lucia",
          "Saint Vincent and the Grenadines",
          "Slovakia",
          "South Africa",
          "Spain",
          "Syrian Arab Republic",
          "T?rkiye",
          "Tajikistan",
          "Thailand",
          "Trinidad and Tobago",
          "Venezuela (Bolivarian Republic of)"
         ],
         "name": "Periferia, baixo suicídio",
         "showlegend": true,
         "showscale": false,
         "type": "choropleth",
         "z": [
          1,
          1,
          1,
          1,
          1,
          1,
          1,
          1,
          1,
          1,
          1,
          1,
          1,
          1,
          1,
          1,
          1,
          1,
          1,
          1,
          1,
          1,
          1,
          1,
          1,
          1,
          1,
          1,
          1,
          1,
          1,
          1,
          1,
          1,
          1,
          1,
          1,
          1,
          1,
          1,
          1,
          1,
          1,
          1,
          1,
          1,
          1,
          1,
          1,
          1
         ]
        },
        {
         "colorscale": [
          [
           0,
           "rgb(17, 165, 121)"
          ],
          [
           1,
           "rgb(17, 165, 121)"
          ]
         ],
         "geo": "geo",
         "hovertemplate": "ClusterLabel=Centro, médio suicídio<br>CountryName=%{location}<extra></extra>",
         "locationmode": "country names",
         "locations": [
          "Australia",
          "Austria",
          "Bahamas",
          "Bahrain",
          "Belgium",
          "Brunei Darussalam",
          "Canada",
          "China, Hong Kong SAR",
          "Cyprus",
          "Denmark",
          "Finland",
          "France",
          "Germany",
          "Iceland",
          "Ireland",
          "Japan",
          "Kuwait",
          "Luxembourg",
          "Netherlands",
          "New Zealand",
          "Norway",
          "Qatar",
          "Singapore",
          "Sweden",
          "Switzerland",
          "United Kingdom of Great Britain and Northern Ireland",
          "United States of America"
         ],
         "name": "Centro, médio suicídio",
         "showlegend": true,
         "showscale": false,
         "type": "choropleth",
         "z": [
          1,
          1,
          1,
          1,
          1,
          1,
          1,
          1,
          1,
          1,
          1,
          1,
          1,
          1,
          1,
          1,
          1,
          1,
          1,
          1,
          1,
          1,
          1,
          1,
          1,
          1,
          1
         ]
        },
        {
         "colorscale": [
          [
           0,
           "rgb(57, 105, 172)"
          ],
          [
           1,
           "rgb(57, 105, 172)"
          ]
         ],
         "geo": "geo",
         "hovertemplate": "ClusterLabel=Periferia, alto suicídio<br>CountryName=%{location}<extra></extra>",
         "locationmode": "country names",
         "locations": [
          "Belarus"
         ],
         "name": "Periferia, alto suicídio",
         "showlegend": true,
         "showscale": false,
         "type": "choropleth",
         "z": [
          1
         ]
        },
        {
         "colorscale": [
          [
           0,
           "rgb(242, 183, 1)"
          ],
          [
           1,
           "rgb(242, 183, 1)"
          ]
         ],
         "geo": "geo",
         "hovertemplate": "ClusterLabel=Periferia, médio suicídio<br>CountryName=%{location}<extra></extra>",
         "locationmode": "country names",
         "locations": [
          "Bulgaria",
          "Croatia",
          "Estonia",
          "Guyana",
          "Hungary",
          "Kazakhstan",
          "Latvia",
          "Lithuania",
          "Montenegro",
          "Republic of Korea",
          "Republic of Moldova",
          "Russian Federation",
          "Serbia",
          "Slovenia",
          "Sri Lanka",
          "Suriname",
          "Ukraine",
          "Uruguay"
         ],
         "name": "Periferia, médio suicídio",
         "showlegend": true,
         "showscale": false,
         "type": "choropleth",
         "z": [
          1,
          1,
          1,
          1,
          1,
          1,
          1,
          1,
          1,
          1,
          1,
          1,
          1,
          1,
          1,
          1,
          1,
          1
         ]
        }
       ],
       "layout": {
        "geo": {
         "center": {},
         "domain": {
          "x": [
           0,
           1
          ],
          "y": [
           0,
           1
          ]
         }
        },
        "legend": {
         "title": {
          "text": "ClusterLabel"
         },
         "tracegroupgap": 0
        },
        "template": {
         "data": {
          "bar": [
           {
            "error_x": {
             "color": "#2a3f5f"
            },
            "error_y": {
             "color": "#2a3f5f"
            },
            "marker": {
             "line": {
              "color": "#E5ECF6",
              "width": 0.5
             },
             "pattern": {
              "fillmode": "overlay",
              "size": 10,
              "solidity": 0.2
             }
            },
            "type": "bar"
           }
          ],
          "barpolar": [
           {
            "marker": {
             "line": {
              "color": "#E5ECF6",
              "width": 0.5
             },
             "pattern": {
              "fillmode": "overlay",
              "size": 10,
              "solidity": 0.2
             }
            },
            "type": "barpolar"
           }
          ],
          "carpet": [
           {
            "aaxis": {
             "endlinecolor": "#2a3f5f",
             "gridcolor": "white",
             "linecolor": "white",
             "minorgridcolor": "white",
             "startlinecolor": "#2a3f5f"
            },
            "baxis": {
             "endlinecolor": "#2a3f5f",
             "gridcolor": "white",
             "linecolor": "white",
             "minorgridcolor": "white",
             "startlinecolor": "#2a3f5f"
            },
            "type": "carpet"
           }
          ],
          "choropleth": [
           {
            "colorbar": {
             "outlinewidth": 0,
             "ticks": ""
            },
            "type": "choropleth"
           }
          ],
          "contour": [
           {
            "colorbar": {
             "outlinewidth": 0,
             "ticks": ""
            },
            "colorscale": [
             [
              0,
              "#0d0887"
             ],
             [
              0.1111111111111111,
              "#46039f"
             ],
             [
              0.2222222222222222,
              "#7201a8"
             ],
             [
              0.3333333333333333,
              "#9c179e"
             ],
             [
              0.4444444444444444,
              "#bd3786"
             ],
             [
              0.5555555555555556,
              "#d8576b"
             ],
             [
              0.6666666666666666,
              "#ed7953"
             ],
             [
              0.7777777777777778,
              "#fb9f3a"
             ],
             [
              0.8888888888888888,
              "#fdca26"
             ],
             [
              1,
              "#f0f921"
             ]
            ],
            "type": "contour"
           }
          ],
          "contourcarpet": [
           {
            "colorbar": {
             "outlinewidth": 0,
             "ticks": ""
            },
            "type": "contourcarpet"
           }
          ],
          "heatmap": [
           {
            "colorbar": {
             "outlinewidth": 0,
             "ticks": ""
            },
            "colorscale": [
             [
              0,
              "#0d0887"
             ],
             [
              0.1111111111111111,
              "#46039f"
             ],
             [
              0.2222222222222222,
              "#7201a8"
             ],
             [
              0.3333333333333333,
              "#9c179e"
             ],
             [
              0.4444444444444444,
              "#bd3786"
             ],
             [
              0.5555555555555556,
              "#d8576b"
             ],
             [
              0.6666666666666666,
              "#ed7953"
             ],
             [
              0.7777777777777778,
              "#fb9f3a"
             ],
             [
              0.8888888888888888,
              "#fdca26"
             ],
             [
              1,
              "#f0f921"
             ]
            ],
            "type": "heatmap"
           }
          ],
          "histogram": [
           {
            "marker": {
             "pattern": {
              "fillmode": "overlay",
              "size": 10,
              "solidity": 0.2
             }
            },
            "type": "histogram"
           }
          ],
          "histogram2d": [
           {
            "colorbar": {
             "outlinewidth": 0,
             "ticks": ""
            },
            "colorscale": [
             [
              0,
              "#0d0887"
             ],
             [
              0.1111111111111111,
              "#46039f"
             ],
             [
              0.2222222222222222,
              "#7201a8"
             ],
             [
              0.3333333333333333,
              "#9c179e"
             ],
             [
              0.4444444444444444,
              "#bd3786"
             ],
             [
              0.5555555555555556,
              "#d8576b"
             ],
             [
              0.6666666666666666,
              "#ed7953"
             ],
             [
              0.7777777777777778,
              "#fb9f3a"
             ],
             [
              0.8888888888888888,
              "#fdca26"
             ],
             [
              1,
              "#f0f921"
             ]
            ],
            "type": "histogram2d"
           }
          ],
          "histogram2dcontour": [
           {
            "colorbar": {
             "outlinewidth": 0,
             "ticks": ""
            },
            "colorscale": [
             [
              0,
              "#0d0887"
             ],
             [
              0.1111111111111111,
              "#46039f"
             ],
             [
              0.2222222222222222,
              "#7201a8"
             ],
             [
              0.3333333333333333,
              "#9c179e"
             ],
             [
              0.4444444444444444,
              "#bd3786"
             ],
             [
              0.5555555555555556,
              "#d8576b"
             ],
             [
              0.6666666666666666,
              "#ed7953"
             ],
             [
              0.7777777777777778,
              "#fb9f3a"
             ],
             [
              0.8888888888888888,
              "#fdca26"
             ],
             [
              1,
              "#f0f921"
             ]
            ],
            "type": "histogram2dcontour"
           }
          ],
          "mesh3d": [
           {
            "colorbar": {
             "outlinewidth": 0,
             "ticks": ""
            },
            "type": "mesh3d"
           }
          ],
          "parcoords": [
           {
            "line": {
             "colorbar": {
              "outlinewidth": 0,
              "ticks": ""
             }
            },
            "type": "parcoords"
           }
          ],
          "pie": [
           {
            "automargin": true,
            "type": "pie"
           }
          ],
          "scatter": [
           {
            "fillpattern": {
             "fillmode": "overlay",
             "size": 10,
             "solidity": 0.2
            },
            "type": "scatter"
           }
          ],
          "scatter3d": [
           {
            "line": {
             "colorbar": {
              "outlinewidth": 0,
              "ticks": ""
             }
            },
            "marker": {
             "colorbar": {
              "outlinewidth": 0,
              "ticks": ""
             }
            },
            "type": "scatter3d"
           }
          ],
          "scattercarpet": [
           {
            "marker": {
             "colorbar": {
              "outlinewidth": 0,
              "ticks": ""
             }
            },
            "type": "scattercarpet"
           }
          ],
          "scattergeo": [
           {
            "marker": {
             "colorbar": {
              "outlinewidth": 0,
              "ticks": ""
             }
            },
            "type": "scattergeo"
           }
          ],
          "scattergl": [
           {
            "marker": {
             "colorbar": {
              "outlinewidth": 0,
              "ticks": ""
             }
            },
            "type": "scattergl"
           }
          ],
          "scattermap": [
           {
            "marker": {
             "colorbar": {
              "outlinewidth": 0,
              "ticks": ""
             }
            },
            "type": "scattermap"
           }
          ],
          "scattermapbox": [
           {
            "marker": {
             "colorbar": {
              "outlinewidth": 0,
              "ticks": ""
             }
            },
            "type": "scattermapbox"
           }
          ],
          "scatterpolar": [
           {
            "marker": {
             "colorbar": {
              "outlinewidth": 0,
              "ticks": ""
             }
            },
            "type": "scatterpolar"
           }
          ],
          "scatterpolargl": [
           {
            "marker": {
             "colorbar": {
              "outlinewidth": 0,
              "ticks": ""
             }
            },
            "type": "scatterpolargl"
           }
          ],
          "scatterternary": [
           {
            "marker": {
             "colorbar": {
              "outlinewidth": 0,
              "ticks": ""
             }
            },
            "type": "scatterternary"
           }
          ],
          "surface": [
           {
            "colorbar": {
             "outlinewidth": 0,
             "ticks": ""
            },
            "colorscale": [
             [
              0,
              "#0d0887"
             ],
             [
              0.1111111111111111,
              "#46039f"
             ],
             [
              0.2222222222222222,
              "#7201a8"
             ],
             [
              0.3333333333333333,
              "#9c179e"
             ],
             [
              0.4444444444444444,
              "#bd3786"
             ],
             [
              0.5555555555555556,
              "#d8576b"
             ],
             [
              0.6666666666666666,
              "#ed7953"
             ],
             [
              0.7777777777777778,
              "#fb9f3a"
             ],
             [
              0.8888888888888888,
              "#fdca26"
             ],
             [
              1,
              "#f0f921"
             ]
            ],
            "type": "surface"
           }
          ],
          "table": [
           {
            "cells": {
             "fill": {
              "color": "#EBF0F8"
             },
             "line": {
              "color": "white"
             }
            },
            "header": {
             "fill": {
              "color": "#C8D4E3"
             },
             "line": {
              "color": "white"
             }
            },
            "type": "table"
           }
          ]
         },
         "layout": {
          "annotationdefaults": {
           "arrowcolor": "#2a3f5f",
           "arrowhead": 0,
           "arrowwidth": 1
          },
          "autotypenumbers": "strict",
          "coloraxis": {
           "colorbar": {
            "outlinewidth": 0,
            "ticks": ""
           }
          },
          "colorscale": {
           "diverging": [
            [
             0,
             "#8e0152"
            ],
            [
             0.1,
             "#c51b7d"
            ],
            [
             0.2,
             "#de77ae"
            ],
            [
             0.3,
             "#f1b6da"
            ],
            [
             0.4,
             "#fde0ef"
            ],
            [
             0.5,
             "#f7f7f7"
            ],
            [
             0.6,
             "#e6f5d0"
            ],
            [
             0.7,
             "#b8e186"
            ],
            [
             0.8,
             "#7fbc41"
            ],
            [
             0.9,
             "#4d9221"
            ],
            [
             1,
             "#276419"
            ]
           ],
           "sequential": [
            [
             0,
             "#0d0887"
            ],
            [
             0.1111111111111111,
             "#46039f"
            ],
            [
             0.2222222222222222,
             "#7201a8"
            ],
            [
             0.3333333333333333,
             "#9c179e"
            ],
            [
             0.4444444444444444,
             "#bd3786"
            ],
            [
             0.5555555555555556,
             "#d8576b"
            ],
            [
             0.6666666666666666,
             "#ed7953"
            ],
            [
             0.7777777777777778,
             "#fb9f3a"
            ],
            [
             0.8888888888888888,
             "#fdca26"
            ],
            [
             1,
             "#f0f921"
            ]
           ],
           "sequentialminus": [
            [
             0,
             "#0d0887"
            ],
            [
             0.1111111111111111,
             "#46039f"
            ],
            [
             0.2222222222222222,
             "#7201a8"
            ],
            [
             0.3333333333333333,
             "#9c179e"
            ],
            [
             0.4444444444444444,
             "#bd3786"
            ],
            [
             0.5555555555555556,
             "#d8576b"
            ],
            [
             0.6666666666666666,
             "#ed7953"
            ],
            [
             0.7777777777777778,
             "#fb9f3a"
            ],
            [
             0.8888888888888888,
             "#fdca26"
            ],
            [
             1,
             "#f0f921"
            ]
           ]
          },
          "colorway": [
           "#636efa",
           "#EF553B",
           "#00cc96",
           "#ab63fa",
           "#FFA15A",
           "#19d3f3",
           "#FF6692",
           "#B6E880",
           "#FF97FF",
           "#FECB52"
          ],
          "font": {
           "color": "#2a3f5f"
          },
          "geo": {
           "bgcolor": "white",
           "lakecolor": "white",
           "landcolor": "#E5ECF6",
           "showlakes": true,
           "showland": true,
           "subunitcolor": "white"
          },
          "hoverlabel": {
           "align": "left"
          },
          "hovermode": "closest",
          "mapbox": {
           "style": "light"
          },
          "paper_bgcolor": "white",
          "plot_bgcolor": "#E5ECF6",
          "polar": {
           "angularaxis": {
            "gridcolor": "white",
            "linecolor": "white",
            "ticks": ""
           },
           "bgcolor": "#E5ECF6",
           "radialaxis": {
            "gridcolor": "white",
            "linecolor": "white",
            "ticks": ""
           }
          },
          "scene": {
           "xaxis": {
            "backgroundcolor": "#E5ECF6",
            "gridcolor": "white",
            "gridwidth": 2,
            "linecolor": "white",
            "showbackground": true,
            "ticks": "",
            "zerolinecolor": "white"
           },
           "yaxis": {
            "backgroundcolor": "#E5ECF6",
            "gridcolor": "white",
            "gridwidth": 2,
            "linecolor": "white",
            "showbackground": true,
            "ticks": "",
            "zerolinecolor": "white"
           },
           "zaxis": {
            "backgroundcolor": "#E5ECF6",
            "gridcolor": "white",
            "gridwidth": 2,
            "linecolor": "white",
            "showbackground": true,
            "ticks": "",
            "zerolinecolor": "white"
           }
          },
          "shapedefaults": {
           "line": {
            "color": "#2a3f5f"
           }
          },
          "ternary": {
           "aaxis": {
            "gridcolor": "white",
            "linecolor": "white",
            "ticks": ""
           },
           "baxis": {
            "gridcolor": "white",
            "linecolor": "white",
            "ticks": ""
           },
           "bgcolor": "#E5ECF6",
           "caxis": {
            "gridcolor": "white",
            "linecolor": "white",
            "ticks": ""
           }
          },
          "title": {
           "x": 0.05
          },
          "xaxis": {
           "automargin": true,
           "gridcolor": "white",
           "linecolor": "white",
           "ticks": "",
           "title": {
            "standoff": 15
           },
           "zerolinecolor": "white",
           "zerolinewidth": 2
          },
          "yaxis": {
           "automargin": true,
           "gridcolor": "white",
           "linecolor": "white",
           "ticks": "",
           "title": {
            "standoff": 15
           },
           "zerolinecolor": "white",
           "zerolinewidth": 2
          }
         }
        },
        "title": {
         "text": "Clusters por País – 2000s"
        }
       }
      }
     },
     "metadata": {},
     "output_type": "display_data"
    }
   ],
   "source": [
    "cluster_labels_00s = {\n",
    "    0: 'Periferia, médio suicídio',\n",
    "    1: 'Centro, médio suicídio',\n",
    "    2: 'Periferia, alto suicídio',\n",
    "    3: 'Periferia, baixo suicídio'\n",
    "}\n",
    "\n",
    "df_00s_clustered['ClusterLabel'] = df_00s_clustered['Cluster'].map(cluster_labels_00s)\n",
    "\n",
    "plot_clusters_on_map(df_00s_clustered, '2000s', cluster_labels_00s)\n"
   ]
  },
  {
   "cell_type": "code",
   "execution_count": 11,
   "id": "fb28eccb",
   "metadata": {},
   "outputs": [
    {
     "name": "stdout",
     "output_type": "stream",
     "text": [
      "\n",
      "Década: 2010s\n"
     ]
    },
    {
     "data": {
      "application/vnd.microsoft.datawrangler.viewer.v0+json": {
       "columns": [
        {
         "name": "Cluster",
         "rawType": "int32",
         "type": "integer"
        },
        {
         "name": "GDPPerCapita",
         "rawType": "float64",
         "type": "float"
        },
        {
         "name": "InflationRate",
         "rawType": "float64",
         "type": "float"
        },
        {
         "name": "EmploymentPopulationRatio",
         "rawType": "float64",
         "type": "float"
        },
        {
         "name": "DeathRatePer100K",
         "rawType": "float64",
         "type": "float"
        }
       ],
       "conversionMethod": "pd.DataFrame",
       "ref": "b85ce8a3-f100-4c1e-a482-273cf7952311",
       "rows": [
        [
         "0",
         "65646.15",
         "1.7",
         "70.08",
         "8.26"
        ],
        [
         "1",
         "7273.48",
         "7.98",
         "44.5",
         "2.8"
        ],
        [
         "2",
         "42038.09",
         "1.4",
         "56.92",
         "13.72"
        ],
        [
         "3",
         "9514.99",
         "4.0",
         "56.82",
         "13.65"
        ]
       ],
       "shape": {
        "columns": 4,
        "rows": 4
       }
      },
      "text/html": [
       "<div>\n",
       "<style scoped>\n",
       "    .dataframe tbody tr th:only-of-type {\n",
       "        vertical-align: middle;\n",
       "    }\n",
       "\n",
       "    .dataframe tbody tr th {\n",
       "        vertical-align: top;\n",
       "    }\n",
       "\n",
       "    .dataframe thead th {\n",
       "        text-align: right;\n",
       "    }\n",
       "</style>\n",
       "<table border=\"1\" class=\"dataframe\">\n",
       "  <thead>\n",
       "    <tr style=\"text-align: right;\">\n",
       "      <th></th>\n",
       "      <th>GDPPerCapita</th>\n",
       "      <th>InflationRate</th>\n",
       "      <th>EmploymentPopulationRatio</th>\n",
       "      <th>DeathRatePer100K</th>\n",
       "    </tr>\n",
       "    <tr>\n",
       "      <th>Cluster</th>\n",
       "      <th></th>\n",
       "      <th></th>\n",
       "      <th></th>\n",
       "      <th></th>\n",
       "    </tr>\n",
       "  </thead>\n",
       "  <tbody>\n",
       "    <tr>\n",
       "      <th>0</th>\n",
       "      <td>65646.15</td>\n",
       "      <td>1.70</td>\n",
       "      <td>70.08</td>\n",
       "      <td>8.26</td>\n",
       "    </tr>\n",
       "    <tr>\n",
       "      <th>1</th>\n",
       "      <td>7273.48</td>\n",
       "      <td>7.98</td>\n",
       "      <td>44.50</td>\n",
       "      <td>2.80</td>\n",
       "    </tr>\n",
       "    <tr>\n",
       "      <th>2</th>\n",
       "      <td>42038.09</td>\n",
       "      <td>1.40</td>\n",
       "      <td>56.92</td>\n",
       "      <td>13.72</td>\n",
       "    </tr>\n",
       "    <tr>\n",
       "      <th>3</th>\n",
       "      <td>9514.99</td>\n",
       "      <td>4.00</td>\n",
       "      <td>56.82</td>\n",
       "      <td>13.65</td>\n",
       "    </tr>\n",
       "  </tbody>\n",
       "</table>\n",
       "</div>"
      ],
      "text/plain": [
       "         GDPPerCapita  InflationRate  EmploymentPopulationRatio  \\\n",
       "Cluster                                                           \n",
       "0            65646.15           1.70                      70.08   \n",
       "1             7273.48           7.98                      44.50   \n",
       "2            42038.09           1.40                      56.92   \n",
       "3             9514.99           4.00                      56.82   \n",
       "\n",
       "         DeathRatePer100K  \n",
       "Cluster                    \n",
       "0                    8.26  \n",
       "1                    2.80  \n",
       "2                   13.72  \n",
       "3                   13.65  "
      ]
     },
     "metadata": {},
     "output_type": "display_data"
    }
   ],
   "source": [
    "df_10s_clustered = process_clusters(df_10s)\n",
    "summarize_clusters(df_10s_clustered, '2010s')"
   ]
  },
  {
   "cell_type": "markdown",
   "id": "8a5504a1",
   "metadata": {},
   "source": [
    "Para a década de 2010, é possível perceber:\n",
    "\n",
    "* Cluster 0: 2º menor índice médio de suicídios/100k, baixa inflação, maior GDP Per Capita;\n",
    "* Cluster 1: Menor índice médio de suicídios/100k, média inflação, menor GDP Per Capita;\n",
    "* Cluster 2: Maior índice médio de suicídios/100k, baixa inflação, 2º maior GDP Per Capita;\n",
    "* Cluster 3: 2º maior índice médio de suicídios/100k, baixa inflação, 2º menor GDP Per Capita.\n",
    "\n",
    "Observação: pela primeira vez na análise de clusters por década, dois clusters apresentam GDP Per Capita acima de 10 mil dólares. É um grande indicativo de ambos serem compostos por países do centro da economia global, uma vez que ambas as taxas de inflação permanecem abaixo de 2%. Contudo, o cluster 0 tem uma maior EmploymentPopulationRatio e menor DeathRatePer100K, enquanto o cluster 2 apresenta menor EmploymentPopulationRatio e maior DeathRatePer100K.\n",
    "\n",
    "A partir disso, podemos supor:\n",
    "\n",
    "* Cluster 0 - Centro na economia global, médio suicídio;\n",
    "* Cluster 1 - Periferia na economia global, baixo suicídio;\n",
    "* Cluster 2 - Centro na economia global, alto suicídio;\n",
    "* Cluster 3 - Periferia na economia global, alto suicídio."
   ]
  },
  {
   "cell_type": "code",
   "execution_count": 12,
   "id": "38949462",
   "metadata": {},
   "outputs": [
    {
     "data": {
      "application/vnd.plotly.v1+json": {
       "config": {
        "plotlyServerURL": "https://plot.ly"
       },
       "data": [
        {
         "colorscale": [
          [
           0,
           "rgb(127, 60, 141)"
          ],
          [
           1,
           "rgb(127, 60, 141)"
          ]
         ],
         "geo": "geo",
         "hovertemplate": "ClusterLabel=Periferia, baixo suicídio<br>CountryName=%{location}<extra></extra>",
         "locationmode": "country names",
         "locations": [
          "Albania",
          "Egypt",
          "Greece",
          "Iran (Islamic Republic of)",
          "Iraq",
          "Jamaica",
          "Jordan",
          "Lebanon",
          "Maldives",
          "North Macedonia",
          "South Africa",
          "Syrian Arab Republic",
          "T?rkiye",
          "Tajikistan",
          "Uzbekistan",
          "Venezuela (Bolivarian Republic of)"
         ],
         "name": "Periferia, baixo suicídio",
         "showlegend": true,
         "showscale": false,
         "type": "choropleth",
         "z": [
          1,
          1,
          1,
          1,
          1,
          1,
          1,
          1,
          1,
          1,
          1,
          1,
          1,
          1,
          1,
          1
         ]
        },
        {
         "colorscale": [
          [
           0,
           "rgb(17, 165, 121)"
          ],
          [
           1,
           "rgb(17, 165, 121)"
          ]
         ],
         "geo": "geo",
         "hovertemplate": "ClusterLabel=Periferia, alto suicídio<br>CountryName=%{location}<extra></extra>",
         "locationmode": "country names",
         "locations": [
          "Armenia",
          "Barbados",
          "Belarus",
          "Belize",
          "Brazil",
          "Bulgaria",
          "Cabo Verde",
          "Chile",
          "Colombia",
          "Costa Rica",
          "Croatia",
          "Czechia",
          "Dominican Republic",
          "Ecuador",
          "El Salvador",
          "Estonia",
          "Fiji",
          "Georgia",
          "Guatemala",
          "Guyana",
          "Hungary",
          "Kazakhstan",
          "Kyrgyzstan",
          "Latvia",
          "Lithuania",
          "Malaysia",
          "Mauritius",
          "Mexico",
          "Mongolia",
          "Montenegro",
          "Nicaragua",
          "Oman",
          "Panama",
          "Paraguay",
          "Peru",
          "Philippines",
          "Poland",
          "Portugal",
          "Republic of Moldova",
          "Romania",
          "Russian Federation",
          "Saint Lucia",
          "Saint Vincent and the Grenadines",
          "Serbia",
          "Slovakia",
          "Sri Lanka",
          "Suriname",
          "Thailand",
          "Trinidad and Tobago",
          "Ukraine",
          "Uruguay"
         ],
         "name": "Periferia, alto suicídio",
         "showlegend": true,
         "showscale": false,
         "type": "choropleth",
         "z": [
          1,
          1,
          1,
          1,
          1,
          1,
          1,
          1,
          1,
          1,
          1,
          1,
          1,
          1,
          1,
          1,
          1,
          1,
          1,
          1,
          1,
          1,
          1,
          1,
          1,
          1,
          1,
          1,
          1,
          1,
          1,
          1,
          1,
          1,
          1,
          1,
          1,
          1,
          1,
          1,
          1,
          1,
          1,
          1,
          1,
          1,
          1,
          1,
          1,
          1,
          1
         ]
        },
        {
         "colorscale": [
          [
           0,
           "rgb(57, 105, 172)"
          ],
          [
           1,
           "rgb(57, 105, 172)"
          ]
         ],
         "geo": "geo",
         "hovertemplate": "ClusterLabel=Centro, alto suicídio<br>CountryName=%{location}<extra></extra>",
         "locationmode": "country names",
         "locations": [
          "Australia",
          "Austria",
          "Bahamas",
          "Belgium",
          "Brunei Darussalam",
          "Canada",
          "China, Hong Kong SAR",
          "Cyprus",
          "Denmark",
          "Finland",
          "France",
          "Germany",
          "Ireland",
          "Israel",
          "Italy",
          "Japan",
          "Malta",
          "Netherlands",
          "New Zealand",
          "Republic of Korea",
          "Slovenia",
          "Spain",
          "Sweden",
          "United Kingdom of Great Britain and Northern Ireland",
          "United States of America"
         ],
         "name": "Centro, alto suicídio",
         "showlegend": true,
         "showscale": false,
         "type": "choropleth",
         "z": [
          1,
          1,
          1,
          1,
          1,
          1,
          1,
          1,
          1,
          1,
          1,
          1,
          1,
          1,
          1,
          1,
          1,
          1,
          1,
          1,
          1,
          1,
          1,
          1,
          1
         ]
        },
        {
         "colorscale": [
          [
           0,
           "rgb(242, 183, 1)"
          ],
          [
           1,
           "rgb(242, 183, 1)"
          ]
         ],
         "geo": "geo",
         "hovertemplate": "ClusterLabel=Centro, médio suicídio<br>CountryName=%{location}<extra></extra>",
         "locationmode": "country names",
         "locations": [
          "Bahrain",
          "Iceland",
          "Kuwait",
          "Luxembourg",
          "Norway",
          "Qatar",
          "Singapore",
          "Switzerland",
          "United Arab Emirates"
         ],
         "name": "Centro, médio suicídio",
         "showlegend": true,
         "showscale": false,
         "type": "choropleth",
         "z": [
          1,
          1,
          1,
          1,
          1,
          1,
          1,
          1,
          1
         ]
        }
       ],
       "layout": {
        "geo": {
         "center": {},
         "domain": {
          "x": [
           0,
           1
          ],
          "y": [
           0,
           1
          ]
         }
        },
        "legend": {
         "title": {
          "text": "ClusterLabel"
         },
         "tracegroupgap": 0
        },
        "template": {
         "data": {
          "bar": [
           {
            "error_x": {
             "color": "#2a3f5f"
            },
            "error_y": {
             "color": "#2a3f5f"
            },
            "marker": {
             "line": {
              "color": "#E5ECF6",
              "width": 0.5
             },
             "pattern": {
              "fillmode": "overlay",
              "size": 10,
              "solidity": 0.2
             }
            },
            "type": "bar"
           }
          ],
          "barpolar": [
           {
            "marker": {
             "line": {
              "color": "#E5ECF6",
              "width": 0.5
             },
             "pattern": {
              "fillmode": "overlay",
              "size": 10,
              "solidity": 0.2
             }
            },
            "type": "barpolar"
           }
          ],
          "carpet": [
           {
            "aaxis": {
             "endlinecolor": "#2a3f5f",
             "gridcolor": "white",
             "linecolor": "white",
             "minorgridcolor": "white",
             "startlinecolor": "#2a3f5f"
            },
            "baxis": {
             "endlinecolor": "#2a3f5f",
             "gridcolor": "white",
             "linecolor": "white",
             "minorgridcolor": "white",
             "startlinecolor": "#2a3f5f"
            },
            "type": "carpet"
           }
          ],
          "choropleth": [
           {
            "colorbar": {
             "outlinewidth": 0,
             "ticks": ""
            },
            "type": "choropleth"
           }
          ],
          "contour": [
           {
            "colorbar": {
             "outlinewidth": 0,
             "ticks": ""
            },
            "colorscale": [
             [
              0,
              "#0d0887"
             ],
             [
              0.1111111111111111,
              "#46039f"
             ],
             [
              0.2222222222222222,
              "#7201a8"
             ],
             [
              0.3333333333333333,
              "#9c179e"
             ],
             [
              0.4444444444444444,
              "#bd3786"
             ],
             [
              0.5555555555555556,
              "#d8576b"
             ],
             [
              0.6666666666666666,
              "#ed7953"
             ],
             [
              0.7777777777777778,
              "#fb9f3a"
             ],
             [
              0.8888888888888888,
              "#fdca26"
             ],
             [
              1,
              "#f0f921"
             ]
            ],
            "type": "contour"
           }
          ],
          "contourcarpet": [
           {
            "colorbar": {
             "outlinewidth": 0,
             "ticks": ""
            },
            "type": "contourcarpet"
           }
          ],
          "heatmap": [
           {
            "colorbar": {
             "outlinewidth": 0,
             "ticks": ""
            },
            "colorscale": [
             [
              0,
              "#0d0887"
             ],
             [
              0.1111111111111111,
              "#46039f"
             ],
             [
              0.2222222222222222,
              "#7201a8"
             ],
             [
              0.3333333333333333,
              "#9c179e"
             ],
             [
              0.4444444444444444,
              "#bd3786"
             ],
             [
              0.5555555555555556,
              "#d8576b"
             ],
             [
              0.6666666666666666,
              "#ed7953"
             ],
             [
              0.7777777777777778,
              "#fb9f3a"
             ],
             [
              0.8888888888888888,
              "#fdca26"
             ],
             [
              1,
              "#f0f921"
             ]
            ],
            "type": "heatmap"
           }
          ],
          "histogram": [
           {
            "marker": {
             "pattern": {
              "fillmode": "overlay",
              "size": 10,
              "solidity": 0.2
             }
            },
            "type": "histogram"
           }
          ],
          "histogram2d": [
           {
            "colorbar": {
             "outlinewidth": 0,
             "ticks": ""
            },
            "colorscale": [
             [
              0,
              "#0d0887"
             ],
             [
              0.1111111111111111,
              "#46039f"
             ],
             [
              0.2222222222222222,
              "#7201a8"
             ],
             [
              0.3333333333333333,
              "#9c179e"
             ],
             [
              0.4444444444444444,
              "#bd3786"
             ],
             [
              0.5555555555555556,
              "#d8576b"
             ],
             [
              0.6666666666666666,
              "#ed7953"
             ],
             [
              0.7777777777777778,
              "#fb9f3a"
             ],
             [
              0.8888888888888888,
              "#fdca26"
             ],
             [
              1,
              "#f0f921"
             ]
            ],
            "type": "histogram2d"
           }
          ],
          "histogram2dcontour": [
           {
            "colorbar": {
             "outlinewidth": 0,
             "ticks": ""
            },
            "colorscale": [
             [
              0,
              "#0d0887"
             ],
             [
              0.1111111111111111,
              "#46039f"
             ],
             [
              0.2222222222222222,
              "#7201a8"
             ],
             [
              0.3333333333333333,
              "#9c179e"
             ],
             [
              0.4444444444444444,
              "#bd3786"
             ],
             [
              0.5555555555555556,
              "#d8576b"
             ],
             [
              0.6666666666666666,
              "#ed7953"
             ],
             [
              0.7777777777777778,
              "#fb9f3a"
             ],
             [
              0.8888888888888888,
              "#fdca26"
             ],
             [
              1,
              "#f0f921"
             ]
            ],
            "type": "histogram2dcontour"
           }
          ],
          "mesh3d": [
           {
            "colorbar": {
             "outlinewidth": 0,
             "ticks": ""
            },
            "type": "mesh3d"
           }
          ],
          "parcoords": [
           {
            "line": {
             "colorbar": {
              "outlinewidth": 0,
              "ticks": ""
             }
            },
            "type": "parcoords"
           }
          ],
          "pie": [
           {
            "automargin": true,
            "type": "pie"
           }
          ],
          "scatter": [
           {
            "fillpattern": {
             "fillmode": "overlay",
             "size": 10,
             "solidity": 0.2
            },
            "type": "scatter"
           }
          ],
          "scatter3d": [
           {
            "line": {
             "colorbar": {
              "outlinewidth": 0,
              "ticks": ""
             }
            },
            "marker": {
             "colorbar": {
              "outlinewidth": 0,
              "ticks": ""
             }
            },
            "type": "scatter3d"
           }
          ],
          "scattercarpet": [
           {
            "marker": {
             "colorbar": {
              "outlinewidth": 0,
              "ticks": ""
             }
            },
            "type": "scattercarpet"
           }
          ],
          "scattergeo": [
           {
            "marker": {
             "colorbar": {
              "outlinewidth": 0,
              "ticks": ""
             }
            },
            "type": "scattergeo"
           }
          ],
          "scattergl": [
           {
            "marker": {
             "colorbar": {
              "outlinewidth": 0,
              "ticks": ""
             }
            },
            "type": "scattergl"
           }
          ],
          "scattermap": [
           {
            "marker": {
             "colorbar": {
              "outlinewidth": 0,
              "ticks": ""
             }
            },
            "type": "scattermap"
           }
          ],
          "scattermapbox": [
           {
            "marker": {
             "colorbar": {
              "outlinewidth": 0,
              "ticks": ""
             }
            },
            "type": "scattermapbox"
           }
          ],
          "scatterpolar": [
           {
            "marker": {
             "colorbar": {
              "outlinewidth": 0,
              "ticks": ""
             }
            },
            "type": "scatterpolar"
           }
          ],
          "scatterpolargl": [
           {
            "marker": {
             "colorbar": {
              "outlinewidth": 0,
              "ticks": ""
             }
            },
            "type": "scatterpolargl"
           }
          ],
          "scatterternary": [
           {
            "marker": {
             "colorbar": {
              "outlinewidth": 0,
              "ticks": ""
             }
            },
            "type": "scatterternary"
           }
          ],
          "surface": [
           {
            "colorbar": {
             "outlinewidth": 0,
             "ticks": ""
            },
            "colorscale": [
             [
              0,
              "#0d0887"
             ],
             [
              0.1111111111111111,
              "#46039f"
             ],
             [
              0.2222222222222222,
              "#7201a8"
             ],
             [
              0.3333333333333333,
              "#9c179e"
             ],
             [
              0.4444444444444444,
              "#bd3786"
             ],
             [
              0.5555555555555556,
              "#d8576b"
             ],
             [
              0.6666666666666666,
              "#ed7953"
             ],
             [
              0.7777777777777778,
              "#fb9f3a"
             ],
             [
              0.8888888888888888,
              "#fdca26"
             ],
             [
              1,
              "#f0f921"
             ]
            ],
            "type": "surface"
           }
          ],
          "table": [
           {
            "cells": {
             "fill": {
              "color": "#EBF0F8"
             },
             "line": {
              "color": "white"
             }
            },
            "header": {
             "fill": {
              "color": "#C8D4E3"
             },
             "line": {
              "color": "white"
             }
            },
            "type": "table"
           }
          ]
         },
         "layout": {
          "annotationdefaults": {
           "arrowcolor": "#2a3f5f",
           "arrowhead": 0,
           "arrowwidth": 1
          },
          "autotypenumbers": "strict",
          "coloraxis": {
           "colorbar": {
            "outlinewidth": 0,
            "ticks": ""
           }
          },
          "colorscale": {
           "diverging": [
            [
             0,
             "#8e0152"
            ],
            [
             0.1,
             "#c51b7d"
            ],
            [
             0.2,
             "#de77ae"
            ],
            [
             0.3,
             "#f1b6da"
            ],
            [
             0.4,
             "#fde0ef"
            ],
            [
             0.5,
             "#f7f7f7"
            ],
            [
             0.6,
             "#e6f5d0"
            ],
            [
             0.7,
             "#b8e186"
            ],
            [
             0.8,
             "#7fbc41"
            ],
            [
             0.9,
             "#4d9221"
            ],
            [
             1,
             "#276419"
            ]
           ],
           "sequential": [
            [
             0,
             "#0d0887"
            ],
            [
             0.1111111111111111,
             "#46039f"
            ],
            [
             0.2222222222222222,
             "#7201a8"
            ],
            [
             0.3333333333333333,
             "#9c179e"
            ],
            [
             0.4444444444444444,
             "#bd3786"
            ],
            [
             0.5555555555555556,
             "#d8576b"
            ],
            [
             0.6666666666666666,
             "#ed7953"
            ],
            [
             0.7777777777777778,
             "#fb9f3a"
            ],
            [
             0.8888888888888888,
             "#fdca26"
            ],
            [
             1,
             "#f0f921"
            ]
           ],
           "sequentialminus": [
            [
             0,
             "#0d0887"
            ],
            [
             0.1111111111111111,
             "#46039f"
            ],
            [
             0.2222222222222222,
             "#7201a8"
            ],
            [
             0.3333333333333333,
             "#9c179e"
            ],
            [
             0.4444444444444444,
             "#bd3786"
            ],
            [
             0.5555555555555556,
             "#d8576b"
            ],
            [
             0.6666666666666666,
             "#ed7953"
            ],
            [
             0.7777777777777778,
             "#fb9f3a"
            ],
            [
             0.8888888888888888,
             "#fdca26"
            ],
            [
             1,
             "#f0f921"
            ]
           ]
          },
          "colorway": [
           "#636efa",
           "#EF553B",
           "#00cc96",
           "#ab63fa",
           "#FFA15A",
           "#19d3f3",
           "#FF6692",
           "#B6E880",
           "#FF97FF",
           "#FECB52"
          ],
          "font": {
           "color": "#2a3f5f"
          },
          "geo": {
           "bgcolor": "white",
           "lakecolor": "white",
           "landcolor": "#E5ECF6",
           "showlakes": true,
           "showland": true,
           "subunitcolor": "white"
          },
          "hoverlabel": {
           "align": "left"
          },
          "hovermode": "closest",
          "mapbox": {
           "style": "light"
          },
          "paper_bgcolor": "white",
          "plot_bgcolor": "#E5ECF6",
          "polar": {
           "angularaxis": {
            "gridcolor": "white",
            "linecolor": "white",
            "ticks": ""
           },
           "bgcolor": "#E5ECF6",
           "radialaxis": {
            "gridcolor": "white",
            "linecolor": "white",
            "ticks": ""
           }
          },
          "scene": {
           "xaxis": {
            "backgroundcolor": "#E5ECF6",
            "gridcolor": "white",
            "gridwidth": 2,
            "linecolor": "white",
            "showbackground": true,
            "ticks": "",
            "zerolinecolor": "white"
           },
           "yaxis": {
            "backgroundcolor": "#E5ECF6",
            "gridcolor": "white",
            "gridwidth": 2,
            "linecolor": "white",
            "showbackground": true,
            "ticks": "",
            "zerolinecolor": "white"
           },
           "zaxis": {
            "backgroundcolor": "#E5ECF6",
            "gridcolor": "white",
            "gridwidth": 2,
            "linecolor": "white",
            "showbackground": true,
            "ticks": "",
            "zerolinecolor": "white"
           }
          },
          "shapedefaults": {
           "line": {
            "color": "#2a3f5f"
           }
          },
          "ternary": {
           "aaxis": {
            "gridcolor": "white",
            "linecolor": "white",
            "ticks": ""
           },
           "baxis": {
            "gridcolor": "white",
            "linecolor": "white",
            "ticks": ""
           },
           "bgcolor": "#E5ECF6",
           "caxis": {
            "gridcolor": "white",
            "linecolor": "white",
            "ticks": ""
           }
          },
          "title": {
           "x": 0.05
          },
          "xaxis": {
           "automargin": true,
           "gridcolor": "white",
           "linecolor": "white",
           "ticks": "",
           "title": {
            "standoff": 15
           },
           "zerolinecolor": "white",
           "zerolinewidth": 2
          },
          "yaxis": {
           "automargin": true,
           "gridcolor": "white",
           "linecolor": "white",
           "ticks": "",
           "title": {
            "standoff": 15
           },
           "zerolinecolor": "white",
           "zerolinewidth": 2
          }
         }
        },
        "title": {
         "text": "Clusters por País – 2010s"
        }
       }
      }
     },
     "metadata": {},
     "output_type": "display_data"
    }
   ],
   "source": [
    "cluster_labels_10s = {\n",
    "    0: 'Centro, médio suicídio',\n",
    "    1: 'Periferia, baixo suicídio',\n",
    "    2: 'Centro, alto suicídio',\n",
    "    3: 'Periferia, alto suicídio'\n",
    "}\n",
    "\n",
    "df_10s_clustered['ClusterLabel'] = df_10s_clustered['Cluster'].map(cluster_labels_10s)\n",
    "\n",
    "plot_clusters_on_map(df_10s_clustered, '2010s', cluster_labels_10s)\n"
   ]
  }
 ],
 "metadata": {
  "kernelspec": {
   "display_name": "Python 3",
   "language": "python",
   "name": "python3"
  },
  "language_info": {
   "codemirror_mode": {
    "name": "ipython",
    "version": 3
   },
   "file_extension": ".py",
   "mimetype": "text/x-python",
   "name": "python",
   "nbconvert_exporter": "python",
   "pygments_lexer": "ipython3",
   "version": "3.12.6"
  }
 },
 "nbformat": 4,
 "nbformat_minor": 5
}
